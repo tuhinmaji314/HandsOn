{
 "cells": [
  {
   "cell_type": "code",
   "execution_count": 1,
   "id": "9208012a",
   "metadata": {},
   "outputs": [],
   "source": [
    "import pyspark\n",
    "from pyspark.sql import SparkSession"
   ]
  },
  {
   "cell_type": "code",
   "execution_count": 2,
   "id": "c08a6e95",
   "metadata": {},
   "outputs": [],
   "source": [
    "spark=SparkSession.builder.appName(\"Third App\").getOrCreate()"
   ]
  },
  {
   "cell_type": "code",
   "execution_count": 4,
   "id": "f5d2774b",
   "metadata": {},
   "outputs": [],
   "source": [
    "path=\"D:/Expedia/HandsOn/Spark/input/BankChurners.csv\"\n",
    "df=spark.read.option(\"header\",\"true\").option(\"inferSchema\",\"true\").csv(path)"
   ]
  },
  {
   "cell_type": "code",
   "execution_count": 5,
   "id": "1f85a7a3",
   "metadata": {},
   "outputs": [
    {
     "name": "stdout",
     "output_type": "stream",
     "text": [
      "+---------+-----------------+------------+------+---------------+---------------+--------------+---------------+-------------+--------------+------------------------+----------------------+---------------------+------------+-------------------+---------------+--------------------+---------------+--------------+-------------------+---------------------+----------------------------------------------------------------------------------------------------------------------------------+----------------------------------------------------------------------------------------------------------------------------------+\n",
      "|CLIENTNUM|   Attrition_Flag|Customer_Age|Gender|Dependent_count|Education_Level|Marital_Status|Income_Category|Card_Category|Months_on_book|Total_Relationship_Count|Months_Inactive_12_mon|Contacts_Count_12_mon|Credit_Limit|Total_Revolving_Bal|Avg_Open_To_Buy|Total_Amt_Chng_Q4_Q1|Total_Trans_Amt|Total_Trans_Ct|Total_Ct_Chng_Q4_Q1|Avg_Utilization_Ratio|Naive_Bayes_Classifier_Attrition_Flag_Card_Category_Contacts_Count_12_mon_Dependent_count_Education_Level_Months_Inactive_12_mon_1|Naive_Bayes_Classifier_Attrition_Flag_Card_Category_Contacts_Count_12_mon_Dependent_count_Education_Level_Months_Inactive_12_mon_2|\n",
      "+---------+-----------------+------------+------+---------------+---------------+--------------+---------------+-------------+--------------+------------------------+----------------------+---------------------+------------+-------------------+---------------+--------------------+---------------+--------------+-------------------+---------------------+----------------------------------------------------------------------------------------------------------------------------------+----------------------------------------------------------------------------------------------------------------------------------+\n",
      "|768805383|Existing Customer|          45|     M|              3|    High School|       Married|    $60K - $80K|         Blue|            39|                       5|                     1|                    3|     12691.0|                777|        11914.0|               1.335|           1144|            42|              1.625|                0.061|                                                                                                                         9.3448E-5|                                                                                                                           0.99991|\n",
      "|818770008|Existing Customer|          49|     F|              5|       Graduate|        Single| Less than $40K|         Blue|            44|                       6|                     1|                    2|      8256.0|                864|         7392.0|               1.541|           1291|            33|              3.714|                0.105|                                                                                                                         5.6861E-5|                                                                                                                           0.99994|\n",
      "|713982108|Existing Customer|          51|     M|              3|       Graduate|       Married|   $80K - $120K|         Blue|            36|                       4|                     1|                    0|      3418.0|                  0|         3418.0|               2.594|           1887|            20|              2.333|                  0.0|                                                                                                                         2.1081E-5|                                                                                                                           0.99998|\n",
      "+---------+-----------------+------------+------+---------------+---------------+--------------+---------------+-------------+--------------+------------------------+----------------------+---------------------+------------+-------------------+---------------+--------------------+---------------+--------------+-------------------+---------------------+----------------------------------------------------------------------------------------------------------------------------------+----------------------------------------------------------------------------------------------------------------------------------+\n",
      "only showing top 3 rows\n",
      "\n"
     ]
    }
   ],
   "source": [
    "df.show(3)"
   ]
  },
  {
   "cell_type": "code",
   "execution_count": 6,
   "id": "14a247fc",
   "metadata": {},
   "outputs": [
    {
     "name": "stdout",
     "output_type": "stream",
     "text": [
      "root\n",
      " |-- CLIENTNUM: integer (nullable = true)\n",
      " |-- Attrition_Flag: string (nullable = true)\n",
      " |-- Customer_Age: integer (nullable = true)\n",
      " |-- Gender: string (nullable = true)\n",
      " |-- Dependent_count: integer (nullable = true)\n",
      " |-- Education_Level: string (nullable = true)\n",
      " |-- Marital_Status: string (nullable = true)\n",
      " |-- Income_Category: string (nullable = true)\n",
      " |-- Card_Category: string (nullable = true)\n",
      " |-- Months_on_book: integer (nullable = true)\n",
      " |-- Total_Relationship_Count: integer (nullable = true)\n",
      " |-- Months_Inactive_12_mon: integer (nullable = true)\n",
      " |-- Contacts_Count_12_mon: integer (nullable = true)\n",
      " |-- Credit_Limit: double (nullable = true)\n",
      " |-- Total_Revolving_Bal: integer (nullable = true)\n",
      " |-- Avg_Open_To_Buy: double (nullable = true)\n",
      " |-- Total_Amt_Chng_Q4_Q1: double (nullable = true)\n",
      " |-- Total_Trans_Amt: integer (nullable = true)\n",
      " |-- Total_Trans_Ct: integer (nullable = true)\n",
      " |-- Total_Ct_Chng_Q4_Q1: double (nullable = true)\n",
      " |-- Avg_Utilization_Ratio: double (nullable = true)\n",
      " |-- Naive_Bayes_Classifier_Attrition_Flag_Card_Category_Contacts_Count_12_mon_Dependent_count_Education_Level_Months_Inactive_12_mon_1: double (nullable = true)\n",
      " |-- Naive_Bayes_Classifier_Attrition_Flag_Card_Category_Contacts_Count_12_mon_Dependent_count_Education_Level_Months_Inactive_12_mon_2: double (nullable = true)\n",
      "\n"
     ]
    }
   ],
   "source": [
    "df.printSchema()"
   ]
  },
  {
   "cell_type": "code",
   "execution_count": 7,
   "id": "b8446306",
   "metadata": {},
   "outputs": [
    {
     "data": {
      "text/plain": [
       "['CLIENTNUM',\n",
       " 'Attrition_Flag',\n",
       " 'Customer_Age',\n",
       " 'Gender',\n",
       " 'Dependent_count',\n",
       " 'Education_Level',\n",
       " 'Marital_Status',\n",
       " 'Income_Category',\n",
       " 'Card_Category',\n",
       " 'Months_on_book',\n",
       " 'Total_Relationship_Count',\n",
       " 'Months_Inactive_12_mon',\n",
       " 'Contacts_Count_12_mon',\n",
       " 'Credit_Limit',\n",
       " 'Total_Revolving_Bal',\n",
       " 'Avg_Open_To_Buy',\n",
       " 'Total_Amt_Chng_Q4_Q1',\n",
       " 'Total_Trans_Amt',\n",
       " 'Total_Trans_Ct',\n",
       " 'Total_Ct_Chng_Q4_Q1',\n",
       " 'Avg_Utilization_Ratio',\n",
       " 'Naive_Bayes_Classifier_Attrition_Flag_Card_Category_Contacts_Count_12_mon_Dependent_count_Education_Level_Months_Inactive_12_mon_1',\n",
       " 'Naive_Bayes_Classifier_Attrition_Flag_Card_Category_Contacts_Count_12_mon_Dependent_count_Education_Level_Months_Inactive_12_mon_2']"
      ]
     },
     "execution_count": 7,
     "metadata": {},
     "output_type": "execute_result"
    }
   ],
   "source": [
    "df.columns"
   ]
  },
  {
   "cell_type": "code",
   "execution_count": 13,
   "id": "f37e582d",
   "metadata": {},
   "outputs": [
    {
     "data": {
      "text/plain": [
       "10127"
      ]
     },
     "execution_count": 13,
     "metadata": {},
     "output_type": "execute_result"
    }
   ],
   "source": [
    "df.count()"
   ]
  },
  {
   "cell_type": "code",
   "execution_count": 16,
   "id": "33e9ec3f",
   "metadata": {},
   "outputs": [
    {
     "name": "stdout",
     "output_type": "stream",
     "text": [
      "+------+\n",
      "|Gender|\n",
      "+------+\n",
      "|     F|\n",
      "|     M|\n",
      "+------+\n",
      "\n"
     ]
    }
   ],
   "source": [
    "df.select(\"Gender\").distinct().show()"
   ]
  },
  {
   "cell_type": "code",
   "execution_count": 23,
   "id": "b46c0392",
   "metadata": {},
   "outputs": [
    {
     "name": "stdout",
     "output_type": "stream",
     "text": [
      "+------+-----+\n",
      "|Gender|count|\n",
      "+------+-----+\n",
      "|     F| 5358|\n",
      "|     M| 4769|\n",
      "+------+-----+\n",
      "\n"
     ]
    }
   ],
   "source": [
    "df.groupBy('Gender').count().show()"
   ]
  },
  {
   "cell_type": "code",
   "execution_count": 24,
   "id": "aa34103a",
   "metadata": {},
   "outputs": [
    {
     "name": "stdout",
     "output_type": "stream",
     "text": [
      "+------+-----------------+-----+\n",
      "|Gender|   Attrition_Flag|count|\n",
      "+------+-----------------+-----+\n",
      "|     M|Attrited Customer|  697|\n",
      "|     F|Existing Customer| 4428|\n",
      "|     M|Existing Customer| 4072|\n",
      "|     F|Attrited Customer|  930|\n",
      "+------+-----------------+-----+\n",
      "\n"
     ]
    }
   ],
   "source": [
    "df.groupBy('Gender','Attrition_Flag').count().show()"
   ]
  },
  {
   "cell_type": "code",
   "execution_count": 17,
   "id": "71742f7a",
   "metadata": {},
   "outputs": [
    {
     "name": "stdout",
     "output_type": "stream",
     "text": [
      "+-----------------+\n",
      "|   Attrition_Flag|\n",
      "+-----------------+\n",
      "|Existing Customer|\n",
      "|Attrited Customer|\n",
      "+-----------------+\n",
      "\n"
     ]
    }
   ],
   "source": [
    "df.select(\"Attrition_Flag\").distinct().show()"
   ]
  },
  {
   "cell_type": "code",
   "execution_count": 25,
   "id": "7b524a2e",
   "metadata": {},
   "outputs": [
    {
     "name": "stdout",
     "output_type": "stream",
     "text": [
      "+-----------------+-----+\n",
      "|   Attrition_Flag|count|\n",
      "+-----------------+-----+\n",
      "|Existing Customer| 8500|\n",
      "|Attrited Customer| 1627|\n",
      "+-----------------+-----+\n",
      "\n"
     ]
    }
   ],
   "source": [
    "df.groupBy(\"Attrition_Flag\").count().show()"
   ]
  },
  {
   "cell_type": "code",
   "execution_count": 18,
   "id": "2dbc34e2",
   "metadata": {},
   "outputs": [
    {
     "name": "stdout",
     "output_type": "stream",
     "text": [
      "+--------------+\n",
      "|Marital_Status|\n",
      "+--------------+\n",
      "|       Unknown|\n",
      "|       Married|\n",
      "|      Divorced|\n",
      "|        Single|\n",
      "+--------------+\n",
      "\n"
     ]
    }
   ],
   "source": [
    "df.select(\"Marital_Status\").distinct().show()"
   ]
  },
  {
   "cell_type": "code",
   "execution_count": 26,
   "id": "ea296ca0",
   "metadata": {},
   "outputs": [
    {
     "name": "stdout",
     "output_type": "stream",
     "text": [
      "+--------------+-----+\n",
      "|Marital_Status|count|\n",
      "+--------------+-----+\n",
      "|       Unknown|  749|\n",
      "|       Married| 4687|\n",
      "|      Divorced|  748|\n",
      "|        Single| 3943|\n",
      "+--------------+-----+\n",
      "\n"
     ]
    }
   ],
   "source": [
    "df.groupBy('Marital_Status').count().show()"
   ]
  },
  {
   "cell_type": "code",
   "execution_count": 27,
   "id": "5f1c4779",
   "metadata": {},
   "outputs": [
    {
     "name": "stdout",
     "output_type": "stream",
     "text": [
      "+--------------+-----------------+-----+\n",
      "|Marital_Status|   Attrition_Flag|count|\n",
      "+--------------+-----------------+-----+\n",
      "|      Divorced|Existing Customer|  627|\n",
      "|        Single|Attrited Customer|  668|\n",
      "|       Married|Attrited Customer|  709|\n",
      "|        Single|Existing Customer| 3275|\n",
      "|      Divorced|Attrited Customer|  121|\n",
      "|       Married|Existing Customer| 3978|\n",
      "|       Unknown|Existing Customer|  620|\n",
      "|       Unknown|Attrited Customer|  129|\n",
      "+--------------+-----------------+-----+\n",
      "\n"
     ]
    }
   ],
   "source": [
    "df.groupBy('Marital_Status','Attrition_Flag').count().show()"
   ]
  },
  {
   "cell_type": "code",
   "execution_count": 19,
   "id": "f41b6b87",
   "metadata": {},
   "outputs": [
    {
     "name": "stdout",
     "output_type": "stream",
     "text": [
      "+---------------+\n",
      "|Income_Category|\n",
      "+---------------+\n",
      "|        $120K +|\n",
      "|    $60K - $80K|\n",
      "|   $80K - $120K|\n",
      "|        Unknown|\n",
      "|    $40K - $60K|\n",
      "| Less than $40K|\n",
      "+---------------+\n",
      "\n"
     ]
    }
   ],
   "source": [
    "df.select(\"Income_Category\").distinct().show()"
   ]
  },
  {
   "cell_type": "code",
   "execution_count": 28,
   "id": "f0b023df",
   "metadata": {},
   "outputs": [
    {
     "name": "stdout",
     "output_type": "stream",
     "text": [
      "+---------------+-----+\n",
      "|Income_Category|count|\n",
      "+---------------+-----+\n",
      "|        $120K +|  727|\n",
      "|    $60K - $80K| 1402|\n",
      "|   $80K - $120K| 1535|\n",
      "|        Unknown| 1112|\n",
      "|    $40K - $60K| 1790|\n",
      "| Less than $40K| 3561|\n",
      "+---------------+-----+\n",
      "\n"
     ]
    }
   ],
   "source": [
    "df.groupBy(\"Income_Category\").count().show()"
   ]
  },
  {
   "cell_type": "code",
   "execution_count": 29,
   "id": "085538de",
   "metadata": {},
   "outputs": [
    {
     "name": "stdout",
     "output_type": "stream",
     "text": [
      "+---------------+-----------------+-----+\n",
      "|Income_Category|   Attrition_Flag|count|\n",
      "+---------------+-----------------+-----+\n",
      "| Less than $40K|Existing Customer| 2949|\n",
      "|    $60K - $80K|Attrited Customer|  189|\n",
      "|   $80K - $120K|Existing Customer| 1293|\n",
      "|   $80K - $120K|Attrited Customer|  242|\n",
      "|    $40K - $60K|Attrited Customer|  271|\n",
      "|        $120K +|Attrited Customer|  126|\n",
      "|    $40K - $60K|Existing Customer| 1519|\n",
      "|        $120K +|Existing Customer|  601|\n",
      "|        Unknown|Existing Customer|  925|\n",
      "| Less than $40K|Attrited Customer|  612|\n",
      "|    $60K - $80K|Existing Customer| 1213|\n",
      "|        Unknown|Attrited Customer|  187|\n",
      "+---------------+-----------------+-----+\n",
      "\n"
     ]
    }
   ],
   "source": [
    "df.groupBy(\"Income_Category\",\"Attrition_Flag\").count().show()"
   ]
  },
  {
   "cell_type": "code",
   "execution_count": 20,
   "id": "ad6fadd7",
   "metadata": {},
   "outputs": [
    {
     "name": "stdout",
     "output_type": "stream",
     "text": [
      "+-------------+\n",
      "|Card_Category|\n",
      "+-------------+\n",
      "|     Platinum|\n",
      "|       Silver|\n",
      "|         Blue|\n",
      "|         Gold|\n",
      "+-------------+\n",
      "\n"
     ]
    }
   ],
   "source": [
    "df.select(\"Card_Category\").distinct().show()"
   ]
  },
  {
   "cell_type": "code",
   "execution_count": 30,
   "id": "74d4fd7b",
   "metadata": {},
   "outputs": [
    {
     "name": "stdout",
     "output_type": "stream",
     "text": [
      "+-------------+-----+\n",
      "|Card_Category|count|\n",
      "+-------------+-----+\n",
      "|     Platinum|   20|\n",
      "|       Silver|  555|\n",
      "|         Blue| 9436|\n",
      "|         Gold|  116|\n",
      "+-------------+-----+\n",
      "\n"
     ]
    }
   ],
   "source": [
    "df.groupBy(\"Card_Category\").count().show()"
   ]
  },
  {
   "cell_type": "code",
   "execution_count": 31,
   "id": "bc6b16d5",
   "metadata": {},
   "outputs": [
    {
     "name": "stdout",
     "output_type": "stream",
     "text": [
      "+-------------+-----------------+-----+\n",
      "|Card_Category|   Attrition_Flag|count|\n",
      "+-------------+-----------------+-----+\n",
      "|     Platinum|Existing Customer|   15|\n",
      "|     Platinum|Attrited Customer|    5|\n",
      "|         Gold|Existing Customer|   95|\n",
      "|       Silver|Attrited Customer|   82|\n",
      "|       Silver|Existing Customer|  473|\n",
      "|         Gold|Attrited Customer|   21|\n",
      "|         Blue|Existing Customer| 7917|\n",
      "|         Blue|Attrited Customer| 1519|\n",
      "+-------------+-----------------+-----+\n",
      "\n"
     ]
    }
   ],
   "source": [
    "df.groupBy(\"Card_Category\",\"Attrition_Flag\").count().show()"
   ]
  },
  {
   "cell_type": "code",
   "execution_count": 15,
   "id": "14a3e9e7",
   "metadata": {},
   "outputs": [
    {
     "name": "stdout",
     "output_type": "stream",
     "text": [
      "+---------------+\n",
      "|Education_Level|\n",
      "+---------------+\n",
      "|    High School|\n",
      "|        Unknown|\n",
      "|     Uneducated|\n",
      "|  Post-Graduate|\n",
      "|      Doctorate|\n",
      "|       Graduate|\n",
      "|        College|\n",
      "+---------------+\n",
      "\n"
     ]
    }
   ],
   "source": [
    "df.select(\"Education_Level\").distinct().show()"
   ]
  },
  {
   "cell_type": "code",
   "execution_count": 22,
   "id": "b9459615",
   "metadata": {},
   "outputs": [
    {
     "name": "stdout",
     "output_type": "stream",
     "text": [
      "+---------------+-----+\n",
      "|Education_Level|count|\n",
      "+---------------+-----+\n",
      "|    High School| 2013|\n",
      "|        Unknown| 1519|\n",
      "|     Uneducated| 1487|\n",
      "|  Post-Graduate|  516|\n",
      "|      Doctorate|  451|\n",
      "|       Graduate| 3128|\n",
      "|        College| 1013|\n",
      "+---------------+-----+\n",
      "\n"
     ]
    }
   ],
   "source": [
    "df.groupBy(\"Education_Level\").count().show()"
   ]
  },
  {
   "cell_type": "code",
   "execution_count": 21,
   "id": "0a293a89",
   "metadata": {},
   "outputs": [
    {
     "name": "stdout",
     "output_type": "stream",
     "text": [
      "+---------------+-----------------+-----+\n",
      "|Education_Level|   Attrition_Flag|count|\n",
      "+---------------+-----------------+-----+\n",
      "|    High School|Existing Customer| 1707|\n",
      "|  Post-Graduate|Existing Customer|  424|\n",
      "|      Doctorate|Existing Customer|  356|\n",
      "|       Graduate|Existing Customer| 2641|\n",
      "|  Post-Graduate|Attrited Customer|   92|\n",
      "|     Uneducated|Existing Customer| 1250|\n",
      "|        College|Existing Customer|  859|\n",
      "|      Doctorate|Attrited Customer|   95|\n",
      "|       Graduate|Attrited Customer|  487|\n",
      "|        College|Attrited Customer|  154|\n",
      "|        Unknown|Existing Customer| 1263|\n",
      "|     Uneducated|Attrited Customer|  237|\n",
      "|    High School|Attrited Customer|  306|\n",
      "|        Unknown|Attrited Customer|  256|\n",
      "+---------------+-----------------+-----+\n",
      "\n"
     ]
    }
   ],
   "source": [
    "df.groupBy(\"Education_Level\",\"Attrition_Flag\").count().show()"
   ]
  },
  {
   "cell_type": "code",
   "execution_count": 33,
   "id": "74613c81",
   "metadata": {},
   "outputs": [
    {
     "name": "stdout",
     "output_type": "stream",
     "text": [
      "+------------------------+\n",
      "|Total_Relationship_Count|\n",
      "+------------------------+\n",
      "|                       1|\n",
      "|                       6|\n",
      "|                       3|\n",
      "|                       5|\n",
      "|                       4|\n",
      "|                       2|\n",
      "+------------------------+\n",
      "\n"
     ]
    }
   ],
   "source": [
    "df.select('Total_Relationship_Count').distinct().show()"
   ]
  },
  {
   "cell_type": "code",
   "execution_count": null,
   "id": "1033d270",
   "metadata": {},
   "outputs": [],
   "source": []
  },
  {
   "cell_type": "code",
   "execution_count": null,
   "id": "1c9a913b",
   "metadata": {},
   "outputs": [],
   "source": []
  },
  {
   "cell_type": "code",
   "execution_count": null,
   "id": "fa191288",
   "metadata": {},
   "outputs": [],
   "source": []
  },
  {
   "cell_type": "code",
   "execution_count": 10,
   "id": "b7df854d",
   "metadata": {},
   "outputs": [
    {
     "name": "stdout",
     "output_type": "stream",
     "text": [
      "+-------+-----------------+\n",
      "|summary|   Attrition_Flag|\n",
      "+-------+-----------------+\n",
      "|  count|            10127|\n",
      "|   mean|             null|\n",
      "| stddev|             null|\n",
      "|    min|Attrited Customer|\n",
      "|    max|Existing Customer|\n",
      "+-------+-----------------+\n",
      "\n"
     ]
    }
   ],
   "source": [
    "df.describe(\"Attrition_Flag\").show()"
   ]
  },
  {
   "cell_type": "code",
   "execution_count": null,
   "id": "dd811bef",
   "metadata": {},
   "outputs": [],
   "source": []
  },
  {
   "cell_type": "code",
   "execution_count": 11,
   "id": "31d289fb",
   "metadata": {},
   "outputs": [
    {
     "name": "stdout",
     "output_type": "stream",
     "text": [
      "+------------+------------------------+\n",
      "|Customer_Age|avg(Total_Revolving_Bal)|\n",
      "+------------+------------------------+\n",
      "|          31|      1098.7142857142858|\n",
      "|          65|      1251.3168316831684|\n",
      "|          53|      1227.6511627906978|\n",
      "|          34|      1295.7808219178082|\n",
      "|          28|      1006.6206896551724|\n",
      "|          26|       1105.974358974359|\n",
      "|          27|                 1175.75|\n",
      "|          44|                1117.924|\n",
      "|          47|      1139.0229645093946|\n",
      "|          52|       1204.877659574468|\n",
      "|          40|       1175.152354570637|\n",
      "|          57|       1251.134529147982|\n",
      "|          54|      1190.6091205211726|\n",
      "|          48|       1130.175847457627|\n",
      "|          64|      1161.7441860465117|\n",
      "|          41|      1122.7625329815303|\n",
      "|          43|      1155.6109936575053|\n",
      "|          37|      1137.8653846153845|\n",
      "|          61|      1209.9569892473119|\n",
      "|          35|      1161.2173913043478|\n",
      "+------------+------------------------+\n",
      "only showing top 20 rows\n",
      "\n"
     ]
    }
   ],
   "source": [
    "df.groupBy(\"Customer_Age\").agg({'Total_Revolving_Bal':'mean'}).show()"
   ]
  },
  {
   "cell_type": "code",
   "execution_count": 12,
   "id": "76564eff",
   "metadata": {},
   "outputs": [
    {
     "name": "stdout",
     "output_type": "stream",
     "text": [
      "+------------+-----+\n",
      "|Customer_Age|count|\n",
      "+------------+-----+\n",
      "|          31|   91|\n",
      "|          65|  101|\n",
      "|          53|  387|\n",
      "|          34|  146|\n",
      "|          28|   29|\n",
      "|          26|   78|\n",
      "|          27|   32|\n",
      "|          44|  500|\n",
      "|          47|  479|\n",
      "|          52|  376|\n",
      "|          40|  361|\n",
      "|          57|  223|\n",
      "|          54|  307|\n",
      "|          48|  472|\n",
      "|          64|   43|\n",
      "|          41|  379|\n",
      "|          43|  473|\n",
      "|          37|  260|\n",
      "|          61|   93|\n",
      "|          35|  184|\n",
      "+------------+-----+\n",
      "only showing top 20 rows\n",
      "\n"
     ]
    }
   ],
   "source": [
    "df.groupBy(\"Customer_Age\").count().show()"
   ]
  },
  {
   "cell_type": "code",
   "execution_count": null,
   "id": "156b92b1",
   "metadata": {},
   "outputs": [],
   "source": []
  }
 ],
 "metadata": {
  "kernelspec": {
   "display_name": "Python 3 (ipykernel)",
   "language": "python",
   "name": "python3"
  },
  "language_info": {
   "codemirror_mode": {
    "name": "ipython",
    "version": 3
   },
   "file_extension": ".py",
   "mimetype": "text/x-python",
   "name": "python",
   "nbconvert_exporter": "python",
   "pygments_lexer": "ipython3",
   "version": "3.9.12"
  }
 },
 "nbformat": 4,
 "nbformat_minor": 5
}
