{
 "cells": [
  {
   "cell_type": "code",
   "execution_count": 31,
   "id": "7a817765",
   "metadata": {},
   "outputs": [],
   "source": [
    "import pyspark\n",
    "from pyspark.sql import SparkSession\n",
    "from pyspark.sql.functions import desc,count,split,col,max,min,countDistinct"
   ]
  },
  {
   "cell_type": "code",
   "execution_count": 2,
   "id": "30ffe871",
   "metadata": {},
   "outputs": [],
   "source": [
    "spark=SparkSession.builder.appName(\"First App\").getOrCreate()"
   ]
  },
  {
   "cell_type": "code",
   "execution_count": 19,
   "id": "aa86601b",
   "metadata": {},
   "outputs": [],
   "source": [
    "path='D:/Expedia/HandsOn/Spark/input/deliveries.csv'\n",
    "path1='D:/Expedia/HandsOn/Spark/input/matches.csv'\n",
    "df=spark.read.option(\"header\",\"true\").option(\"inferShema\",\"true\").csv(path)\n",
    "match_df=spark.read.option(\"header\",\"true\").option(\"inferShema\",\"true\").csv(path1)"
   ]
  },
  {
   "cell_type": "code",
   "execution_count": 4,
   "id": "fe766dd8",
   "metadata": {},
   "outputs": [
    {
     "name": "stdout",
     "output_type": "stream",
     "text": [
      "+--------+------+-------------------+--------------------+----+----+---------+-----------+--------+-------------+---------+--------+-----------+-----------+------------+------------+----------+----------+----------------+--------------+-------+\n",
      "|match_id|inning|       batting_team|        bowling_team|over|ball|  batsman|non_striker|  bowler|is_super_over|wide_runs|bye_runs|legbye_runs|noball_runs|penalty_runs|batsman_runs|extra_runs|total_runs|player_dismissed|dismissal_kind|fielder|\n",
      "+--------+------+-------------------+--------------------+----+----+---------+-----------+--------+-------------+---------+--------+-----------+-----------+------------+------------+----------+----------+----------------+--------------+-------+\n",
      "|       1|     1|Sunrisers Hyderabad|Royal Challengers...|   1|   1|DA Warner|   S Dhawan|TS Mills|            0|        0|       0|          0|          0|           0|           0|         0|         0|            null|          null|   null|\n",
      "|       1|     1|Sunrisers Hyderabad|Royal Challengers...|   1|   2|DA Warner|   S Dhawan|TS Mills|            0|        0|       0|          0|          0|           0|           0|         0|         0|            null|          null|   null|\n",
      "|       1|     1|Sunrisers Hyderabad|Royal Challengers...|   1|   3|DA Warner|   S Dhawan|TS Mills|            0|        0|       0|          0|          0|           0|           4|         0|         4|            null|          null|   null|\n",
      "+--------+------+-------------------+--------------------+----+----+---------+-----------+--------+-------------+---------+--------+-----------+-----------+------------+------------+----------+----------+----------------+--------------+-------+\n",
      "only showing top 3 rows\n",
      "\n"
     ]
    }
   ],
   "source": [
    "df.show(3)"
   ]
  },
  {
   "cell_type": "code",
   "execution_count": 5,
   "id": "a28a166a",
   "metadata": {},
   "outputs": [
    {
     "name": "stdout",
     "output_type": "stream",
     "text": [
      "root\n",
      " |-- match_id: string (nullable = true)\n",
      " |-- inning: string (nullable = true)\n",
      " |-- batting_team: string (nullable = true)\n",
      " |-- bowling_team: string (nullable = true)\n",
      " |-- over: string (nullable = true)\n",
      " |-- ball: string (nullable = true)\n",
      " |-- batsman: string (nullable = true)\n",
      " |-- non_striker: string (nullable = true)\n",
      " |-- bowler: string (nullable = true)\n",
      " |-- is_super_over: string (nullable = true)\n",
      " |-- wide_runs: string (nullable = true)\n",
      " |-- bye_runs: string (nullable = true)\n",
      " |-- legbye_runs: string (nullable = true)\n",
      " |-- noball_runs: string (nullable = true)\n",
      " |-- penalty_runs: string (nullable = true)\n",
      " |-- batsman_runs: string (nullable = true)\n",
      " |-- extra_runs: string (nullable = true)\n",
      " |-- total_runs: string (nullable = true)\n",
      " |-- player_dismissed: string (nullable = true)\n",
      " |-- dismissal_kind: string (nullable = true)\n",
      " |-- fielder: string (nullable = true)\n",
      "\n"
     ]
    }
   ],
   "source": [
    "df.printSchema()"
   ]
  },
  {
   "cell_type": "code",
   "execution_count": 7,
   "id": "ca371bd3",
   "metadata": {},
   "outputs": [
    {
     "data": {
      "text/plain": [
       "DataFrame[match_id: string, inning: int, batting_team: string, bowling_team: string, over: string, ball: string, batsman: string, non_striker: string, bowler: string, is_super_over: string, wide_runs: string, bye_runs: string, legbye_runs: string, noball_runs: string, penalty_runs: string, batsman_runs: string, extra_runs: string, total_runs: string, player_dismissed: string, dismissal_kind: string, fielder: string]"
      ]
     },
     "execution_count": 7,
     "metadata": {},
     "output_type": "execute_result"
    }
   ],
   "source": [
    "df.withColumn('inning',col('inning').cast('int'))"
   ]
  },
  {
   "cell_type": "markdown",
   "id": "bde94818",
   "metadata": {},
   "source": [
    "# Converting Numerical columns' datatype from string to int"
   ]
  },
  {
   "cell_type": "code",
   "execution_count": 13,
   "id": "4cde8bc7",
   "metadata": {},
   "outputs": [],
   "source": [
    "columns_to_cast=['match_id','inning','over','ball','is_super_over','wide_runs','bye_runs','legbye_runs','noball_runs','penalty_runs','batsman_runs','extra_runs','total_runs']"
   ]
  },
  {
   "cell_type": "code",
   "execution_count": 14,
   "id": "dddf1346",
   "metadata": {},
   "outputs": [],
   "source": [
    "for column in  columns_to_cast:\n",
    "    df=df.withColumn(column,col(column).cast('int'))"
   ]
  },
  {
   "cell_type": "markdown",
   "id": "478e5463",
   "metadata": {},
   "source": [
    "# Total number of matches palyed"
   ]
  },
  {
   "cell_type": "code",
   "execution_count": 16,
   "id": "62c669d5",
   "metadata": {},
   "outputs": [
    {
     "data": {
      "text/plain": [
       "150460"
      ]
     },
     "execution_count": 16,
     "metadata": {},
     "output_type": "execute_result"
    }
   ],
   "source": [
    "\n",
    "df.select('match_id').count()"
   ]
  },
  {
   "cell_type": "code",
   "execution_count": null,
   "id": "99672d97",
   "metadata": {},
   "outputs": [],
   "source": []
  },
  {
   "cell_type": "code",
   "execution_count": null,
   "id": "29e2f943",
   "metadata": {},
   "outputs": [],
   "source": []
  },
  {
   "cell_type": "code",
   "execution_count": null,
   "id": "2565a1e9",
   "metadata": {},
   "outputs": [],
   "source": []
  },
  {
   "cell_type": "code",
   "execution_count": null,
   "id": "629dfb5e",
   "metadata": {},
   "outputs": [],
   "source": []
  },
  {
   "cell_type": "code",
   "execution_count": null,
   "id": "e448abe5",
   "metadata": {},
   "outputs": [],
   "source": []
  },
  {
   "cell_type": "code",
   "execution_count": null,
   "id": "3ec117c4",
   "metadata": {},
   "outputs": [],
   "source": []
  },
  {
   "cell_type": "code",
   "execution_count": 21,
   "id": "33221c16",
   "metadata": {},
   "outputs": [
    {
     "name": "stdout",
     "output_type": "stream",
     "text": [
      "root\n",
      " |-- id: string (nullable = true)\n",
      " |-- season: string (nullable = true)\n",
      " |-- city: string (nullable = true)\n",
      " |-- date: string (nullable = true)\n",
      " |-- team1: string (nullable = true)\n",
      " |-- team2: string (nullable = true)\n",
      " |-- toss_winner: string (nullable = true)\n",
      " |-- toss_decision: string (nullable = true)\n",
      " |-- result: string (nullable = true)\n",
      " |-- dl_applied: string (nullable = true)\n",
      " |-- winner: string (nullable = true)\n",
      " |-- win_by_runs: string (nullable = true)\n",
      " |-- win_by_wickets: string (nullable = true)\n",
      " |-- player_of_match: string (nullable = true)\n",
      " |-- venue: string (nullable = true)\n",
      " |-- umpire1: string (nullable = true)\n",
      " |-- umpire2: string (nullable = true)\n",
      " |-- umpire3: string (nullable = true)\n",
      "\n"
     ]
    }
   ],
   "source": [
    "match_df.printSchema()"
   ]
  },
  {
   "cell_type": "code",
   "execution_count": 23,
   "id": "6d6d9147",
   "metadata": {},
   "outputs": [
    {
     "name": "stdout",
     "output_type": "stream",
     "text": [
      "+------+\n",
      "|season|\n",
      "+------+\n",
      "|  2016|\n",
      "|  2012|\n",
      "|  2017|\n",
      "|  2014|\n",
      "|  2013|\n",
      "|  2009|\n",
      "|  2011|\n",
      "|  2008|\n",
      "|  2015|\n",
      "|  2010|\n",
      "+------+\n",
      "\n"
     ]
    }
   ],
   "source": [
    "match_df.select('season').distinct().show()"
   ]
  },
  {
   "cell_type": "code",
   "execution_count": 24,
   "id": "f9513736",
   "metadata": {},
   "outputs": [],
   "source": [
    "match_df=match_df.withColumn('season',col('season').cast('int'))"
   ]
  },
  {
   "cell_type": "code",
   "execution_count": 26,
   "id": "474b7302",
   "metadata": {},
   "outputs": [
    {
     "name": "stdout",
     "output_type": "stream",
     "text": [
      "+------+-----------+\n",
      "|season|match_count|\n",
      "+------+-----------+\n",
      "|  2008|         58|\n",
      "|  2009|         57|\n",
      "|  2010|         60|\n",
      "|  2011|         73|\n",
      "|  2012|         74|\n",
      "|  2013|         76|\n",
      "|  2014|         60|\n",
      "|  2015|         59|\n",
      "|  2016|         60|\n",
      "|  2017|         59|\n",
      "+------+-----------+\n",
      "\n"
     ]
    }
   ],
   "source": [
    "match_df.groupBy('season').agg(count('id').alias('match_count')).sort('season').show()"
   ]
  },
  {
   "cell_type": "markdown",
   "id": "7336807d",
   "metadata": {},
   "source": [
    "# City having More than one statdium for IPL"
   ]
  },
  {
   "cell_type": "code",
   "execution_count": 42,
   "id": "efe8cc33",
   "metadata": {},
   "outputs": [
    {
     "name": "stdout",
     "output_type": "stream",
     "text": [
      "+----------+-----------+\n",
      "|      city|venue_count|\n",
      "+----------+-----------+\n",
      "|    Mumbai|          3|\n",
      "|      Pune|          2|\n",
      "|Chandigarh|          2|\n",
      "+----------+-----------+\n",
      "\n"
     ]
    }
   ],
   "source": [
    "match_df.groupBy('city').agg(countDistinct('venue').alias('venue_count')).filter(col('venue_count')>1).show()"
   ]
  },
  {
   "cell_type": "markdown",
   "id": "5537573a",
   "metadata": {},
   "source": [
    "# Top 5 Stadium with maximum match being played"
   ]
  },
  {
   "cell_type": "code",
   "execution_count": 41,
   "id": "22d5079e",
   "metadata": {},
   "outputs": [],
   "source": [
    "city_venue_map=match_df.select('city','venue').distinct()"
   ]
  },
  {
   "cell_type": "code",
   "execution_count": 43,
   "id": "805a8a5f",
   "metadata": {},
   "outputs": [
    {
     "name": "stdout",
     "output_type": "stream",
     "text": [
      "+-------------+-----------+\n",
      "|         city|match_count|\n",
      "+-------------+-----------+\n",
      "|       Mumbai|         85|\n",
      "|    Bangalore|         66|\n",
      "|      Kolkata|         61|\n",
      "|        Delhi|         60|\n",
      "|    Hyderabad|         49|\n",
      "|      Chennai|         48|\n",
      "|   Chandigarh|         46|\n",
      "|       Jaipur|         33|\n",
      "|         Pune|         32|\n",
      "|       Durban|         15|\n",
      "|    Ahmedabad|         12|\n",
      "|    Centurion|         12|\n",
      "|Visakhapatnam|         11|\n",
      "|       Rajkot|         10|\n",
      "|   Dharamsala|          9|\n",
      "| Johannesburg|          8|\n",
      "|         null|          7|\n",
      "|       Ranchi|          7|\n",
      "|    Cape Town|          7|\n",
      "|    Abu Dhabi|          7|\n",
      "+-------------+-----------+\n",
      "only showing top 20 rows\n",
      "\n"
     ]
    }
   ],
   "source": [
    "match_df.groupBy('city').agg(count('id').alias('match_count')).sort(desc('match_count')).show()"
   ]
  },
  {
   "cell_type": "code",
   "execution_count": 40,
   "id": "9883f40e",
   "metadata": {},
   "outputs": [
    {
     "name": "stdout",
     "output_type": "stream",
     "text": [
      "+-----------------------------------------+-----------+---------+\n",
      "|venue                                    |match_count|city     |\n",
      "+-----------------------------------------+-----------+---------+\n",
      "|M Chinnaswamy Stadium                    |66         |Bangalore|\n",
      "|Eden Gardens                             |61         |Kolkata  |\n",
      "|Feroz Shah Kotla                         |60         |Delhi    |\n",
      "|Wankhede Stadium                         |57         |Mumbai   |\n",
      "|Rajiv Gandhi International Stadium, Uppal|49         |Hyderabad|\n",
      "+-----------------------------------------+-----------+---------+\n",
      "only showing top 5 rows\n",
      "\n"
     ]
    }
   ],
   "source": [
    "venue_df=match_df.groupBy('venue').agg(count('id').alias('match_count'))\n",
    "venue_df.join(city_venue_map,on='venue').sort(desc('match_count')).show(5,False)"
   ]
  },
  {
   "cell_type": "markdown",
   "id": "ae94766c",
   "metadata": {},
   "source": [
    "# Top 3 match winning team"
   ]
  },
  {
   "cell_type": "code",
   "execution_count": 44,
   "id": "0288798a",
   "metadata": {},
   "outputs": [
    {
     "name": "stdout",
     "output_type": "stream",
     "text": [
      "+---------------------+-------------------+\n",
      "|winner               |winning_match_count|\n",
      "+---------------------+-------------------+\n",
      "|Mumbai Indians       |92                 |\n",
      "|Chennai Super Kings  |79                 |\n",
      "|Kolkata Knight Riders|77                 |\n",
      "+---------------------+-------------------+\n",
      "only showing top 3 rows\n",
      "\n"
     ]
    }
   ],
   "source": [
    "match_df.groupBy('winner').agg(count('id').alias('winning_match_count')).sort(desc('winning_match_count')).show(3,False)"
   ]
  },
  {
   "cell_type": "markdown",
   "id": "470aad4e",
   "metadata": {},
   "source": [
    "# Number matches tie and No Result"
   ]
  },
  {
   "cell_type": "code",
   "execution_count": 47,
   "id": "82d9f1b7",
   "metadata": {},
   "outputs": [
    {
     "name": "stdout",
     "output_type": "stream",
     "text": [
      "+---------+\n",
      "|   result|\n",
      "+---------+\n",
      "|   normal|\n",
      "|      tie|\n",
      "|no result|\n",
      "+---------+\n",
      "\n"
     ]
    }
   ],
   "source": [
    "match_df.select('result').distinct().show()"
   ]
  },
  {
   "cell_type": "code",
   "execution_count": 58,
   "id": "4f81d3bf",
   "metadata": {},
   "outputs": [
    {
     "name": "stdout",
     "output_type": "stream",
     "text": [
      "+---------+-----+\n",
      "|   result|count|\n",
      "+---------+-----+\n",
      "|      tie|    7|\n",
      "|no result|    3|\n",
      "+---------+-----+\n",
      "\n"
     ]
    }
   ],
   "source": [
    "match_df.groupBy('result').count().filter(\"result='tie' or result='no result'\").show()"
   ]
  },
  {
   "cell_type": "code",
   "execution_count": 59,
   "id": "52b01b49",
   "metadata": {},
   "outputs": [
    {
     "name": "stdout",
     "output_type": "stream",
     "text": [
      "['id', 'season', 'city', 'date', 'team1', 'team2', 'toss_winner', 'toss_decision', 'result', 'dl_applied', 'winner', 'win_by_runs', 'win_by_wickets', 'player_of_match', 'venue', 'umpire1', 'umpire2', 'umpire3']\n"
     ]
    }
   ],
   "source": [
    "print(match_df.columns)"
   ]
  },
  {
   "cell_type": "code",
   "execution_count": 61,
   "id": "ef327364",
   "metadata": {},
   "outputs": [
    {
     "name": "stdout",
     "output_type": "stream",
     "text": [
      "+----------------+\n",
      "|max(win_by_runs)|\n",
      "+----------------+\n",
      "|              98|\n",
      "+----------------+\n",
      "\n"
     ]
    }
   ],
   "source": [
    "match_df.select('winner','win_by_runs').agg(max('win_by_runs')).show()"
   ]
  },
  {
   "cell_type": "code",
   "execution_count": null,
   "id": "6c518810",
   "metadata": {},
   "outputs": [],
   "source": []
  }
 ],
 "metadata": {
  "kernelspec": {
   "display_name": "Python 3 (ipykernel)",
   "language": "python",
   "name": "python3"
  },
  "language_info": {
   "codemirror_mode": {
    "name": "ipython",
    "version": 3
   },
   "file_extension": ".py",
   "mimetype": "text/x-python",
   "name": "python",
   "nbconvert_exporter": "python",
   "pygments_lexer": "ipython3",
   "version": "3.9.12"
  }
 },
 "nbformat": 4,
 "nbformat_minor": 5
}
