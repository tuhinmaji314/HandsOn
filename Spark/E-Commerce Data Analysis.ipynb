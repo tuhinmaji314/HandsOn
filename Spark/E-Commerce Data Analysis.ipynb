{
 "cells": [
  {
   "cell_type": "code",
   "execution_count": 1,
   "id": "852fd092",
   "metadata": {},
   "outputs": [],
   "source": [
    "import pyspark\n",
    "from pyspark.sql import SparkSession"
   ]
  },
  {
   "cell_type": "code",
   "execution_count": 20,
   "id": "d2ce03b7",
   "metadata": {},
   "outputs": [],
   "source": [
    "from pyspark.sql.functions import count,desc"
   ]
  },
  {
   "cell_type": "code",
   "execution_count": 2,
   "id": "d357ff75",
   "metadata": {},
   "outputs": [],
   "source": [
    "spark=SparkSession.builder.appName(\"Fourth App\").getOrCreate()"
   ]
  },
  {
   "cell_type": "code",
   "execution_count": 3,
   "id": "016e427f",
   "metadata": {},
   "outputs": [],
   "source": [
    "path=\"D:/Expedia/HandsOn/Spark/input/e_commerce_data.csv\"\n",
    "df=spark.read.option(\"header\",\"true\").option(\"inferSchema\",\"true\").csv(path)"
   ]
  },
  {
   "cell_type": "code",
   "execution_count": 4,
   "id": "3382f41b",
   "metadata": {},
   "outputs": [
    {
     "name": "stdout",
     "output_type": "stream",
     "text": [
      "+---------+---------+--------------------+--------+--------------+---------+----------+--------------+\n",
      "|InvoiceNo|StockCode|         Description|Quantity|   InvoiceDate|UnitPrice|CustomerID|       Country|\n",
      "+---------+---------+--------------------+--------+--------------+---------+----------+--------------+\n",
      "|   536365|   85123A|WHITE HANGING HEA...|       6|12/1/2010 8:26|     2.55|     17850|United Kingdom|\n",
      "|   536365|    71053| WHITE METAL LANTERN|       6|12/1/2010 8:26|     3.39|     17850|United Kingdom|\n",
      "|   536365|   84406B|CREAM CUPID HEART...|       8|12/1/2010 8:26|     2.75|     17850|United Kingdom|\n",
      "+---------+---------+--------------------+--------+--------------+---------+----------+--------------+\n",
      "only showing top 3 rows\n",
      "\n"
     ]
    }
   ],
   "source": [
    "df.show(3)"
   ]
  },
  {
   "cell_type": "code",
   "execution_count": 5,
   "id": "2c93290d",
   "metadata": {},
   "outputs": [
    {
     "name": "stdout",
     "output_type": "stream",
     "text": [
      "root\n",
      " |-- InvoiceNo: string (nullable = true)\n",
      " |-- StockCode: string (nullable = true)\n",
      " |-- Description: string (nullable = true)\n",
      " |-- Quantity: integer (nullable = true)\n",
      " |-- InvoiceDate: string (nullable = true)\n",
      " |-- UnitPrice: double (nullable = true)\n",
      " |-- CustomerID: integer (nullable = true)\n",
      " |-- Country: string (nullable = true)\n",
      "\n"
     ]
    }
   ],
   "source": [
    "df.printSchema()"
   ]
  },
  {
   "cell_type": "code",
   "execution_count": 6,
   "id": "452ad246",
   "metadata": {},
   "outputs": [
    {
     "data": {
      "text/plain": [
       "541909"
      ]
     },
     "execution_count": 6,
     "metadata": {},
     "output_type": "execute_result"
    }
   ],
   "source": [
    "df.count()"
   ]
  },
  {
   "cell_type": "code",
   "execution_count": 7,
   "id": "6a4c1691",
   "metadata": {},
   "outputs": [
    {
     "name": "stdout",
     "output_type": "stream",
     "text": [
      "+---------------+\n",
      "|        Country|\n",
      "+---------------+\n",
      "|         Sweden|\n",
      "|      Singapore|\n",
      "|        Germany|\n",
      "|         France|\n",
      "|         Greece|\n",
      "|        Belgium|\n",
      "|        Finland|\n",
      "|          Italy|\n",
      "|           EIRE|\n",
      "|      Lithuania|\n",
      "|         Norway|\n",
      "|          Spain|\n",
      "|        Denmark|\n",
      "|      Hong Kong|\n",
      "|        Iceland|\n",
      "|         Israel|\n",
      "|Channel Islands|\n",
      "|         Cyprus|\n",
      "|    Switzerland|\n",
      "|        Lebanon|\n",
      "+---------------+\n",
      "only showing top 20 rows\n",
      "\n"
     ]
    }
   ],
   "source": [
    "df.select(\"Country\").distinct().show()"
   ]
  },
  {
   "cell_type": "code",
   "execution_count": 23,
   "id": "04a476f9",
   "metadata": {},
   "outputs": [
    {
     "name": "stdout",
     "output_type": "stream",
     "text": [
      "+--------------+------+\n",
      "|       Country|   cnt|\n",
      "+--------------+------+\n",
      "|United Kingdom|495478|\n",
      "|       Germany|  9495|\n",
      "|        France|  8557|\n",
      "|          EIRE|  8196|\n",
      "|         Spain|  2533|\n",
      "+--------------+------+\n",
      "\n"
     ]
    }
   ],
   "source": [
    "#Top 5 country with more order\n",
    "df.groupBy(\"Country\").agg(count('InvoiceNo').alias('cnt')).sort(desc('cnt')).limit(5).show()"
   ]
  },
  {
   "cell_type": "code",
   "execution_count": 26,
   "id": "02f61b8d",
   "metadata": {},
   "outputs": [
    {
     "name": "stdout",
     "output_type": "stream",
     "text": [
      "+---------+--------------------+-----+\n",
      "|StockCode|         Description|count|\n",
      "+---------+--------------------+-----+\n",
      "|   85123A|WHITE HANGING HEA...| 2302|\n",
      "|    22423|REGENCY CAKESTAND...| 2200|\n",
      "|   85099B|JUMBO BAG RED RET...| 2159|\n",
      "|    47566|       PARTY BUNTING| 1727|\n",
      "|    20725|LUNCH BAG RED RET...| 1638|\n",
      "|    84879|ASSORTED COLOUR B...| 1501|\n",
      "|    22720|SET OF 3 CAKE TIN...| 1473|\n",
      "|    21212|PACK OF 72 RETROS...| 1385|\n",
      "|    20727|LUNCH BAG  BLACK ...| 1350|\n",
      "|    22457|NATURAL SLATE HEA...| 1280|\n",
      "|     POST|             POSTAGE| 1252|\n",
      "|    22386|JUMBO BAG PINK PO...| 1251|\n",
      "|    22469|HEART OF WICKER S...| 1237|\n",
      "|    22960|JAM MAKING SET WI...| 1229|\n",
      "|    21931|JUMBO STORAGE BAG...| 1214|\n",
      "|    22086|PAPER CHAIN KIT 5...| 1210|\n",
      "|    22411|JUMBO SHOPPER VIN...| 1202|\n",
      "|    20728| LUNCH BAG CARS BLUE| 1197|\n",
      "|    22382|LUNCH BAG SPACEBO...| 1192|\n",
      "|    22961|JAM MAKING SET PR...| 1182|\n",
      "+---------+--------------------+-----+\n",
      "only showing top 20 rows\n",
      "\n"
     ]
    }
   ],
   "source": [
    "df.groupBy('StockCode','Description').agg(count('InvoiceNo').alias('count')).sort(desc('count')).show()"
   ]
  },
  {
   "cell_type": "code",
   "execution_count": null,
   "id": "13c65497",
   "metadata": {},
   "outputs": [],
   "source": []
  }
 ],
 "metadata": {
  "kernelspec": {
   "display_name": "Python 3 (ipykernel)",
   "language": "python",
   "name": "python3"
  },
  "language_info": {
   "codemirror_mode": {
    "name": "ipython",
    "version": 3
   },
   "file_extension": ".py",
   "mimetype": "text/x-python",
   "name": "python",
   "nbconvert_exporter": "python",
   "pygments_lexer": "ipython3",
   "version": "3.9.12"
  }
 },
 "nbformat": 4,
 "nbformat_minor": 5
}
