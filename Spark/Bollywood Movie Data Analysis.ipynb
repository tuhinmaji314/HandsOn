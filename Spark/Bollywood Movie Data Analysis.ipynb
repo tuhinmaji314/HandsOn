{
 "cells": [
  {
   "cell_type": "code",
   "execution_count": 77,
   "id": "26eb75e3",
   "metadata": {},
   "outputs": [],
   "source": [
    "import pyspark\n",
    "from pyspark.sql import SparkSession\n",
    "from pyspark.sql.functions import desc,count,split,col,max,min"
   ]
  },
  {
   "cell_type": "code",
   "execution_count": 2,
   "id": "c1529441",
   "metadata": {},
   "outputs": [],
   "source": [
    "spark=SparkSession.builder.appName(\"First App\").getOrCreate()"
   ]
  },
  {
   "cell_type": "code",
   "execution_count": 31,
   "id": "2c83a3a3",
   "metadata": {},
   "outputs": [],
   "source": [
    "path='D:/Expedia/HandsOn/Spark/input/netflix_titles_nov_2019.csv'\n",
    "df=spark.read.option(\"header\",\"true\").option(\"inferShema\",\"true\").csv(path)"
   ]
  },
  {
   "cell_type": "code",
   "execution_count": 32,
   "id": "22e39168",
   "metadata": {},
   "outputs": [
    {
     "name": "stdout",
     "output_type": "stream",
     "text": [
      "root\n",
      " |-- show_id: string (nullable = true)\n",
      " |-- title: string (nullable = true)\n",
      " |-- director: string (nullable = true)\n",
      " |-- cast: string (nullable = true)\n",
      " |-- country: string (nullable = true)\n",
      " |-- date_added: string (nullable = true)\n",
      " |-- release_year: string (nullable = true)\n",
      " |-- rating: string (nullable = true)\n",
      " |-- duration: string (nullable = true)\n",
      " |-- listed_in: string (nullable = true)\n",
      " |-- description: string (nullable = true)\n",
      " |-- type: string (nullable = true)\n",
      "\n"
     ]
    }
   ],
   "source": [
    "df.printSchema()"
   ]
  },
  {
   "cell_type": "code",
   "execution_count": 4,
   "id": "e96a9a1a",
   "metadata": {},
   "outputs": [
    {
     "data": {
      "text/plain": [
       "['show_id',\n",
       " 'title',\n",
       " 'director',\n",
       " 'cast',\n",
       " 'country',\n",
       " 'date_added',\n",
       " 'release_year',\n",
       " 'rating',\n",
       " 'duration',\n",
       " 'listed_in',\n",
       " 'description',\n",
       " 'type']"
      ]
     },
     "execution_count": 4,
     "metadata": {},
     "output_type": "execute_result"
    }
   ],
   "source": [
    "df.columns"
   ]
  },
  {
   "cell_type": "code",
   "execution_count": 33,
   "id": "1c335bb9",
   "metadata": {},
   "outputs": [
    {
     "name": "stdout",
     "output_type": "stream",
     "text": [
      "+--------------------+\n",
      "|             country|\n",
      "+--------------------+\n",
      "|Peru, United Stat...|\n",
      "|South Africa, Uni...|\n",
      "|      India, Germany|\n",
      "|              Russia|\n",
      "|Chile, United Sta...|\n",
      "|Hong Kong, China,...|\n",
      "|United States, Fr...|\n",
      "|Denmark, France, ...|\n",
      "|  Philippines, Qatar|\n",
      "|  Germany, Sri Lanka|\n",
      "|United States, Ir...|\n",
      "|Australia, United...|\n",
      "|United States, Ge...|\n",
      "|France, Iran, Uni...|\n",
      "| India, Soviet Union|\n",
      "|Brazil, United St...|\n",
      "|United Kingdom, I...|\n",
      "|France, United St...|\n",
      "|Turkey, United St...|\n",
      "|Ireland, United K...|\n",
      "+--------------------+\n",
      "only showing top 20 rows\n",
      "\n"
     ]
    }
   ],
   "source": [
    "df.select('country').distinct().show()"
   ]
  },
  {
   "cell_type": "code",
   "execution_count": 34,
   "id": "40523df0",
   "metadata": {},
   "outputs": [],
   "source": [
    "df=df.filter(df['country']=='India')"
   ]
  },
  {
   "cell_type": "code",
   "execution_count": 35,
   "id": "bc1b2649",
   "metadata": {},
   "outputs": [
    {
     "data": {
      "text/plain": [
       "697"
      ]
     },
     "execution_count": 35,
     "metadata": {},
     "output_type": "execute_result"
    }
   ],
   "source": [
    "df.count()"
   ]
  },
  {
   "cell_type": "code",
   "execution_count": 36,
   "id": "69cbbdb7",
   "metadata": {},
   "outputs": [
    {
     "name": "stdout",
     "output_type": "stream",
     "text": [
      "+--------+-------------------+--------------------+--------------------+-------+-----------------+------------+------+--------+--------------------+--------------------+-----+\n",
      "| show_id|              title|            director|                cast|country|       date_added|release_year|rating|duration|           listed_in|         description| type|\n",
      "+--------+-------------------+--------------------+--------------------+-------+-----------------+------------+------+--------+--------------------+--------------------+-----+\n",
      "|81213894|    The Zoya Factor|     Abhishek Sharma|Sonam Kapoor, Dul...|  India|November 30, 2019|        2019| TV-14| 135 min|Comedies, Dramas,...|A goofy copywrite...|Movie|\n",
      "|81194544|Evvarikee Cheppoddu|Basava Shankar Eeday|Rakesh Varre, Gar...|  India|November 27, 2019|        2019| TV-14| 134 min|Comedies, Interna...|When caste differ...|Movie|\n",
      "|81215481|            Pranaam|      Sanjiv Jaiswal|Rajeev Khandelwal...|  India|November 25, 2019|        2019| TV-MA| 117 min|Action & Adventur...|Aspiring to fulfi...|Movie|\n",
      "+--------+-------------------+--------------------+--------------------+-------+-----------------+------------+------+--------+--------------------+--------------------+-----+\n",
      "only showing top 3 rows\n",
      "\n"
     ]
    }
   ],
   "source": [
    "df.show(3)"
   ]
  },
  {
   "cell_type": "code",
   "execution_count": 37,
   "id": "c156fc73",
   "metadata": {},
   "outputs": [
    {
     "name": "stdout",
     "output_type": "stream",
     "text": [
      "+--------------------+\n",
      "|                type|\n",
      "+--------------------+\n",
      "|\"\" four short fil...|\n",
      "|\"\" a secretly gay...|\n",
      "|\"\" a young couple...|\n",
      "|             TV Show|\n",
      "| Shruti finds her...|\n",
      "|               Movie|\n",
      "|\"\" one of the mil...|\n",
      "| including her Br...|\n",
      "+--------------------+\n",
      "\n"
     ]
    }
   ],
   "source": [
    "df.select('type').distinct().show()"
   ]
  },
  {
   "cell_type": "code",
   "execution_count": 38,
   "id": "879c1cb3",
   "metadata": {},
   "outputs": [
    {
     "data": {
      "text/plain": [
       "639"
      ]
     },
     "execution_count": 38,
     "metadata": {},
     "output_type": "execute_result"
    }
   ],
   "source": [
    "df=df.filter(df['type']=='Movie')\n",
    "df.count()"
   ]
  },
  {
   "cell_type": "code",
   "execution_count": 39,
   "id": "6f22015d",
   "metadata": {},
   "outputs": [],
   "source": [
    "df=df.drop('country','type')"
   ]
  },
  {
   "cell_type": "code",
   "execution_count": 40,
   "id": "5c0de37b",
   "metadata": {},
   "outputs": [
    {
     "data": {
      "text/plain": [
       "['show_id',\n",
       " 'title',\n",
       " 'director',\n",
       " 'cast',\n",
       " 'date_added',\n",
       " 'release_year',\n",
       " 'rating',\n",
       " 'duration',\n",
       " 'listed_in',\n",
       " 'description']"
      ]
     },
     "execution_count": 40,
     "metadata": {},
     "output_type": "execute_result"
    }
   ],
   "source": [
    "df.columns"
   ]
  },
  {
   "cell_type": "code",
   "execution_count": 41,
   "id": "ff57f411",
   "metadata": {},
   "outputs": [
    {
     "name": "stdout",
     "output_type": "stream",
     "text": [
      "+--------+\n",
      "|  rating|\n",
      "+--------+\n",
      "|      UR|\n",
      "|      PG|\n",
      "|   TV-MA|\n",
      "|TV-Y7-FV|\n",
      "|      NR|\n",
      "|   TV-PG|\n",
      "|       R|\n",
      "|   TV-14|\n",
      "|    TV-G|\n",
      "|   TV-Y7|\n",
      "|   PG-13|\n",
      "+--------+\n",
      "\n"
     ]
    }
   ],
   "source": [
    "df.select('rating').distinct().show()"
   ]
  },
  {
   "cell_type": "code",
   "execution_count": 42,
   "id": "b36b1d73",
   "metadata": {},
   "outputs": [
    {
     "name": "stdout",
     "output_type": "stream",
     "text": [
      "+--------+-----+\n",
      "|  rating|count|\n",
      "+--------+-----+\n",
      "|   TV-14|  343|\n",
      "|   TV-MA|  148|\n",
      "|   TV-PG|  110|\n",
      "|      NR|   19|\n",
      "|    TV-G|    4|\n",
      "|   PG-13|    4|\n",
      "|   TV-Y7|    3|\n",
      "|      PG|    3|\n",
      "|TV-Y7-FV|    2|\n",
      "|       R|    2|\n",
      "|      UR|    1|\n",
      "+--------+-----+\n",
      "\n"
     ]
    }
   ],
   "source": [
    "df.groupBy('rating').agg(count('show_id').alias('count')).sort(desc('count')).show()"
   ]
  },
  {
   "cell_type": "code",
   "execution_count": 43,
   "id": "7b9ace92",
   "metadata": {},
   "outputs": [
    {
     "name": "stdout",
     "output_type": "stream",
     "text": [
      "+--------+-------------------+--------------------+--------------------+-----------------+------------+------+--------+--------------------+--------------------+\n",
      "| show_id|              title|            director|                cast|       date_added|release_year|rating|duration|           listed_in|         description|\n",
      "+--------+-------------------+--------------------+--------------------+-----------------+------------+------+--------+--------------------+--------------------+\n",
      "|81213894|    The Zoya Factor|     Abhishek Sharma|Sonam Kapoor, Dul...|November 30, 2019|        2019| TV-14| 135 min|Comedies, Dramas,...|A goofy copywrite...|\n",
      "|81194544|Evvarikee Cheppoddu|Basava Shankar Eeday|Rakesh Varre, Gar...|November 27, 2019|        2019| TV-14| 134 min|Comedies, Interna...|When caste differ...|\n",
      "|81215481|            Pranaam|      Sanjiv Jaiswal|Rajeev Khandelwal...|November 25, 2019|        2019| TV-MA| 117 min|Action & Adventur...|Aspiring to fulfi...|\n",
      "+--------+-------------------+--------------------+--------------------+-----------------+------------+------+--------+--------------------+--------------------+\n",
      "only showing top 3 rows\n",
      "\n"
     ]
    }
   ],
   "source": [
    "df.show(3)"
   ]
  },
  {
   "cell_type": "code",
   "execution_count": 44,
   "id": "4f7feb64",
   "metadata": {},
   "outputs": [
    {
     "name": "stdout",
     "output_type": "stream",
     "text": [
      "+--------------------+\n",
      "|           listed_in|\n",
      "+--------------------+\n",
      "|Dramas, Internati...|\n",
      "|Horror Movies, In...|\n",
      "|Children & Family...|\n",
      "|Children & Family...|\n",
      "|Horror Movies, In...|\n",
      "|Comedies, Cult Mo...|\n",
      "|Children & Family...|\n",
      "|Action & Adventur...|\n",
      "|Comedies, Interna...|\n",
      "|Classic Movies, D...|\n",
      "|Comedies, Interna...|\n",
      "|     Stand-Up Comedy|\n",
      "|Children & Family...|\n",
      "|Action & Adventur...|\n",
      "|              Dramas|\n",
      "|Action & Adventur...|\n",
      "|Action & Adventur...|\n",
      "|International Mov...|\n",
      "|Children & Family...|\n",
      "|Dramas, Faith & S...|\n",
      "+--------------------+\n",
      "only showing top 20 rows\n",
      "\n"
     ]
    }
   ],
   "source": [
    "df.select('listed_in').distinct().show()"
   ]
  },
  {
   "cell_type": "code",
   "execution_count": 46,
   "id": "b9b05d64",
   "metadata": {},
   "outputs": [
    {
     "name": "stdout",
     "output_type": "stream",
     "text": [
      "+------------+-----+\n",
      "|release_year|count|\n",
      "+------------+-----+\n",
      "|        2017|   92|\n",
      "|        2018|   73|\n",
      "|        2016|   65|\n",
      "|        2015|   51|\n",
      "|        2019|   43|\n",
      "|        2013|   43|\n",
      "|        2014|   37|\n",
      "|        2012|   31|\n",
      "|        2010|   29|\n",
      "|        2011|   23|\n",
      "|        2008|   23|\n",
      "|        2009|   21|\n",
      "|        2005|   15|\n",
      "|        2006|   11|\n",
      "|        2004|   10|\n",
      "|        2007|    8|\n",
      "|        2003|    8|\n",
      "|        2000|    6|\n",
      "|        2002|    6|\n",
      "|        2001|    6|\n",
      "+------------+-----+\n",
      "only showing top 20 rows\n",
      "\n"
     ]
    }
   ],
   "source": [
    "df.groupBy('release_year').agg(count('title').alias('count')).sort(desc('count')).show()"
   ]
  },
  {
   "cell_type": "code",
   "execution_count": 57,
   "id": "3042bffe",
   "metadata": {},
   "outputs": [],
   "source": [
    "df=df.withColumn('duration_',split(col('duration'),' '))"
   ]
  },
  {
   "cell_type": "code",
   "execution_count": 61,
   "id": "2fd0b4bb",
   "metadata": {},
   "outputs": [],
   "source": [
    "df=df.drop('duration')"
   ]
  },
  {
   "cell_type": "code",
   "execution_count": 79,
   "id": "65757ee3",
   "metadata": {},
   "outputs": [],
   "source": [
    "df=df.withColumn('duration',col('duration_').getItem(0).cast('int'))"
   ]
  },
  {
   "cell_type": "code",
   "execution_count": 80,
   "id": "8a22b26a",
   "metadata": {},
   "outputs": [
    {
     "name": "stdout",
     "output_type": "stream",
     "text": [
      "+--------------------+--------+\n",
      "|               title|duration|\n",
      "+--------------------+--------+\n",
      "|              Lagaan|     224|\n",
      "|        Jodhaa Akbar|     214|\n",
      "|What's Your Raashee?|     203|\n",
      "| Hum Aapke Hain Koun|     193|\n",
      "|     Maine Pyar Kiya|     192|\n",
      "+--------------------+--------+\n",
      "only showing top 5 rows\n",
      "\n"
     ]
    }
   ],
   "source": [
    "df.select('title','duration').sort(desc('duration')).show(5)"
   ]
  },
  {
   "cell_type": "code",
   "execution_count": 83,
   "id": "f852585c",
   "metadata": {},
   "outputs": [
    {
     "name": "stdout",
     "output_type": "stream",
     "text": [
      "+--------------------+--------+\n",
      "|               title|duration|\n",
      "+--------------------+--------+\n",
      "| Famous in Ahmedabad|      29|\n",
      "|        Ladies First|      40|\n",
      "|               Kalki|      41|\n",
      "|        The Rat Race|      52|\n",
      "|The Human Factor:...|      53|\n",
      "+--------------------+--------+\n",
      "only showing top 5 rows\n",
      "\n"
     ]
    }
   ],
   "source": [
    "df.select('title','duration').sort('duration').show(5)"
   ]
  },
  {
   "cell_type": "code",
   "execution_count": 81,
   "id": "85a436f9",
   "metadata": {},
   "outputs": [
    {
     "name": "stdout",
     "output_type": "stream",
     "text": [
      "+-------------+\n",
      "|max(duration)|\n",
      "+-------------+\n",
      "|          224|\n",
      "+-------------+\n",
      "\n"
     ]
    }
   ],
   "source": [
    "df.agg(max('duration')).show()"
   ]
  },
  {
   "cell_type": "code",
   "execution_count": 82,
   "id": "5d849bf6",
   "metadata": {},
   "outputs": [
    {
     "name": "stdout",
     "output_type": "stream",
     "text": [
      "+-------------+\n",
      "|min(duration)|\n",
      "+-------------+\n",
      "|           29|\n",
      "+-------------+\n",
      "\n"
     ]
    }
   ],
   "source": [
    "df.agg(min('duration')).show()"
   ]
  },
  {
   "cell_type": "code",
   "execution_count": 88,
   "id": "e3a56bba",
   "metadata": {},
   "outputs": [
    {
     "data": {
      "text/plain": [
       "200"
      ]
     },
     "execution_count": 88,
     "metadata": {},
     "output_type": "execute_result"
    }
   ],
   "source": [
    "#Count of Comedy Movies\n",
    "df.filter(col('listed_in').like('%Comedies%')).count()"
   ]
  },
  {
   "cell_type": "code",
   "execution_count": 89,
   "id": "0fd7d7c4",
   "metadata": {},
   "outputs": [
    {
     "data": {
      "text/plain": [
       "447"
      ]
     },
     "execution_count": 89,
     "metadata": {},
     "output_type": "execute_result"
    }
   ],
   "source": [
    "#Count of Drama Movies\n",
    "df.filter(col('listed_in').like('%Drama%')).count()"
   ]
  },
  {
   "cell_type": "code",
   "execution_count": 90,
   "id": "368b8de3",
   "metadata": {},
   "outputs": [
    {
     "data": {
      "text/plain": [
       "105"
      ]
     },
     "execution_count": 90,
     "metadata": {},
     "output_type": "execute_result"
    }
   ],
   "source": [
    "#Count of Action Movies\n",
    "df.filter(col('listed_in').like('%Action%')).count()"
   ]
  },
  {
   "cell_type": "code",
   "execution_count": 94,
   "id": "37147077",
   "metadata": {},
   "outputs": [
    {
     "data": {
      "text/plain": [
       "73"
      ]
     },
     "execution_count": 94,
     "metadata": {},
     "output_type": "execute_result"
    }
   ],
   "source": [
    "#Count of Romatic Movies\n",
    "df.filter(col('listed_in').like('%Romantic%')).count()"
   ]
  },
  {
   "cell_type": "code",
   "execution_count": 96,
   "id": "c65c3c2b",
   "metadata": {},
   "outputs": [
    {
     "data": {
      "text/plain": [
       "105"
      ]
     },
     "execution_count": 96,
     "metadata": {},
     "output_type": "execute_result"
    }
   ],
   "source": [
    "#Count of Adventure Movies\n",
    "df.filter(col('listed_in').like('%Adventure%')).count()"
   ]
  },
  {
   "cell_type": "code",
   "execution_count": 97,
   "id": "2b62b4b0",
   "metadata": {},
   "outputs": [
    {
     "data": {
      "text/plain": [
       "9"
      ]
     },
     "execution_count": 97,
     "metadata": {},
     "output_type": "execute_result"
    }
   ],
   "source": [
    "#Count of Movies By Salman Khan\n",
    "df.filter(col('cast').like('%Salman Khan%')).count()"
   ]
  },
  {
   "cell_type": "code",
   "execution_count": 101,
   "id": "55bb9c39",
   "metadata": {},
   "outputs": [
    {
     "name": "stdout",
     "output_type": "stream",
     "text": [
      "+--------------------+------------+\n",
      "|               title|release_year|\n",
      "+--------------------+------------+\n",
      "|Main aurr Mrs. Kh...|        2009|\n",
      "|     Andaz Apna Apna|        1994|\n",
      "|            No Entry|        2005|\n",
      "| Hum Aapke Hain Koun|        1994|\n",
      "|Hum Saath-Saath Hain|        1999|\n",
      "|     Maine Pyar Kiya|        1989|\n",
      "|Lucky: No Time fo...|        2005|\n",
      "|               Ready|        2011|\n",
      "|     Mumbai Cha Raja|        2012|\n",
      "+--------------------+------------+\n",
      "\n"
     ]
    }
   ],
   "source": [
    "#Count of Movies By Salman Khan\n",
    "df.select('title','release_year').filter(col('cast').like('%Salman Khan%')).show()"
   ]
  },
  {
   "cell_type": "code",
   "execution_count": 105,
   "id": "8bd763ce",
   "metadata": {},
   "outputs": [
    {
     "name": "stdout",
     "output_type": "stream",
     "text": [
      "+--------------------+------------+--------------------+\n",
      "|               title|release_year|                cast|\n",
      "+--------------------+------------+--------------------+\n",
      "|            3 Idiots|        2009|Aamir Khan, Karee...|\n",
      "|                  PK|        2014|Aamir Khan, Anusk...|\n",
      "|     Rang De Basanti|        2006|Aamir Khan, Siddh...|\n",
      "|     Andaz Apna Apna|        1994|Aamir Khan, Salma...|\n",
      "|    Secret Superstar|        2017|Zaira Wasim, Mehe...|\n",
      "|Dhobi Ghat (Mumba...|        2010|Aamir Khan, Monic...|\n",
      "|              Lagaan|        2001|Aamir Khan, Gracy...|\n",
      "|    Taare Zameen Par|        2007|Aamir Khan, Darsh...|\n",
      "|              Dangal|        2016|Aamir Khan, Saksh...|\n",
      "|     Raja Hindustani|        1996|Aamir Khan, Karis...|\n",
      "+--------------------+------------+--------------------+\n",
      "\n"
     ]
    }
   ],
   "source": [
    "#Count of Movies By  Aamir Khan\n",
    "df.select('title','release_year','cast').filter(col('cast').like('%Aamir Khan%')).show()"
   ]
  },
  {
   "cell_type": "code",
   "execution_count": null,
   "id": "e9443f15",
   "metadata": {},
   "outputs": [],
   "source": [
    "#Count of Movies By  Aamir Khan\n",
    "df.select('title','release_year','cast').filter(col('cast').like('%Aamir Khan%')).show()"
   ]
  },
  {
   "cell_type": "code",
   "execution_count": 109,
   "id": "c6fe3b7d",
   "metadata": {},
   "outputs": [
    {
     "name": "stdout",
     "output_type": "stream",
     "text": [
      "+--------------------+-----+\n",
      "|            director|count|\n",
      "+--------------------+-----+\n",
      "|                null|    9|\n",
      "|      S.S. Rajamouli|    7|\n",
      "|         Umesh Mehra|    5|\n",
      "|     Vishal Bhardwaj|    5|\n",
      "|  Ashutosh Gowariker|    5|\n",
      "|         Rajiv Mehra|    5|\n",
      "|Abbas Alibhai Bur...|    4|\n",
      "|       Milan Luthria|    4|\n",
      "|        David Dhawan|    4|\n",
      "|     Nagesh Kukunoor|    4|\n",
      "|      Gajendra Ahire|    4|\n",
      "|          Imtiaz Ali|    4|\n",
      "|        Anees Bazmee|    4|\n",
      "|          Farah Khan|    4|\n",
      "|    Dibakar Banerjee|    4|\n",
      "|Rakeysh Omprakash...|    4|\n",
      "|     Nishikant Kamat|    4|\n",
      "|     Ram Gopal Varma|    4|\n",
      "|         Kundan Shah|    4|\n",
      "|        Subhash Ghai|    4|\n",
      "+--------------------+-----+\n",
      "only showing top 20 rows\n",
      "\n"
     ]
    }
   ],
   "source": [
    "df.groupBy('director').agg(count('title').alias('count')).sort(desc('count')).show()"
   ]
  },
  {
   "cell_type": "code",
   "execution_count": 113,
   "id": "55f4604b",
   "metadata": {},
   "outputs": [
    {
     "name": "stdout",
     "output_type": "stream",
     "text": [
      "+-----------------------------------------------+-------------------------------------------------------------------------------------------------------+------------+--------+\n",
      "|title                                          |cast                                                                                                   |release_year|duration|\n",
      "+-----------------------------------------------+-------------------------------------------------------------------------------------------------------+------------+--------+\n",
      "|Baahubali: The Beginning (English Version)     |Prabhas, Rana Daggubati, Anushka Shetty, Tamannaah Bhatia, Sathyaraj, Nassar, Ramya Krishnan, Sudeep   |2015        |138     |\n",
      "|Baahubali 2: The Conclusion (Hindi Version)    |Prabhas, Rana Daggubati, Anushka Shetty, Tamannaah Bhatia, Sathyaraj, Ramya Krishnan, Nassar, Subbaraju|2017        |165     |\n",
      "|Baahubali 2: The Conclusion (Malayalam Version)|Prabhas, Rana Daggubati, Anushka Shetty, Tamannaah Bhatia, Sathyaraj, Ramya Krishnan, Nassar, Subbaraju|2017        |166     |\n",
      "|Baahubali 2: The Conclusion (Tamil Version)    |Prabhas, Rana Daggubati, Anushka Shetty, Tamannaah Bhatia, Sathyaraj, Ramya Krishnan, Nassar, Subbaraju|2017        |166     |\n",
      "|Baahubali: The Beginning (Hindi Version)       |Prabhas, Rana Daggubati, Anushka Shetty, Tamannaah Bhatia, Sathyaraj, Nassar, Ramya Krishnan, Sudeep   |2015        |159     |\n",
      "|Baahubali: The Beginning (Malayalam Version)   |Prabhas, Rana Daggubati, Anushka Shetty, Tamannaah Bhatia, Sathyaraj, Nassar, Ramya Krishnan, Sudeep   |2015        |160     |\n",
      "|Baahubali: The Beginning (Tamil Version)       |Prabhas, Rana Daggubati, Anushka Shetty, Tamannaah Bhatia, Sathyaraj, Nassar, Ramya Krishnan, Sudeep   |2015        |159     |\n",
      "+-----------------------------------------------+-------------------------------------------------------------------------------------------------------+------------+--------+\n",
      "\n"
     ]
    }
   ],
   "source": [
    "df.filter(col('director')=='S.S. Rajamouli').select('title','cast','release_year','duration').show(10,False)"
   ]
  },
  {
   "cell_type": "code",
   "execution_count": 114,
   "id": "b10b194c",
   "metadata": {},
   "outputs": [
    {
     "name": "stdout",
     "output_type": "stream",
     "text": [
      "+---------------------+\n",
      "|title                |\n",
      "+---------------------+\n",
      "|The Zoya Factor      |\n",
      "|Evvarikee Cheppoddu  |\n",
      "|Pranaam              |\n",
      "|Dorasaani            |\n",
      "|Mallesham            |\n",
      "|Guna 369             |\n",
      "|House Arrest         |\n",
      "|U Turn               |\n",
      "|Oththa Seruppu Size 7|\n",
      "|Drive                |\n",
      "+---------------------+\n",
      "only showing top 10 rows\n",
      "\n"
     ]
    }
   ],
   "source": [
    "df.select('title').show(10,False)"
   ]
  },
  {
   "cell_type": "code",
   "execution_count": null,
   "id": "46ff0e70",
   "metadata": {},
   "outputs": [],
   "source": []
  }
 ],
 "metadata": {
  "kernelspec": {
   "display_name": "Python 3 (ipykernel)",
   "language": "python",
   "name": "python3"
  },
  "language_info": {
   "codemirror_mode": {
    "name": "ipython",
    "version": 3
   },
   "file_extension": ".py",
   "mimetype": "text/x-python",
   "name": "python",
   "nbconvert_exporter": "python",
   "pygments_lexer": "ipython3",
   "version": "3.9.12"
  }
 },
 "nbformat": 4,
 "nbformat_minor": 5
}
