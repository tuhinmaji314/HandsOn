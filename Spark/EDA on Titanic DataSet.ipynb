{
 "cells": [
  {
   "cell_type": "code",
   "execution_count": 6,
   "id": "f8fe34e0",
   "metadata": {},
   "outputs": [],
   "source": [
    "import pyspark\n",
    "from pyspark.sql import SparkSession"
   ]
  },
  {
   "cell_type": "code",
   "execution_count": 52,
   "id": "43e4017b",
   "metadata": {},
   "outputs": [],
   "source": [
    "from pyspark.sql.functions import col,desc,mean"
   ]
  },
  {
   "cell_type": "code",
   "execution_count": 7,
   "id": "f9c9f620",
   "metadata": {},
   "outputs": [],
   "source": [
    "spark=SparkSession.builder.appName(\"First App\").getOrCreate()"
   ]
  },
  {
   "cell_type": "code",
   "execution_count": 9,
   "id": "c0cf509e",
   "metadata": {},
   "outputs": [],
   "source": [
    "df=spark.read.option(\"header\",\"true\").csv(r\"D:\\Expedia\\HandsOn\\Spark\\input\\train.csv\")"
   ]
  },
  {
   "cell_type": "code",
   "execution_count": 10,
   "id": "697e9187",
   "metadata": {},
   "outputs": [
    {
     "name": "stdout",
     "output_type": "stream",
     "text": [
      "root\n",
      " |-- PassengerId: string (nullable = true)\n",
      " |-- Survived: string (nullable = true)\n",
      " |-- Pclass: string (nullable = true)\n",
      " |-- Name: string (nullable = true)\n",
      " |-- Sex: string (nullable = true)\n",
      " |-- Age: string (nullable = true)\n",
      " |-- SibSp: string (nullable = true)\n",
      " |-- Parch: string (nullable = true)\n",
      " |-- Ticket: string (nullable = true)\n",
      " |-- Fare: string (nullable = true)\n",
      " |-- Cabin: string (nullable = true)\n",
      " |-- Embarked: string (nullable = true)\n",
      "\n"
     ]
    }
   ],
   "source": [
    "df.printSchema()"
   ]
  },
  {
   "cell_type": "code",
   "execution_count": 11,
   "id": "c790e0d7",
   "metadata": {},
   "outputs": [
    {
     "name": "stdout",
     "output_type": "stream",
     "text": [
      "+-----------+--------+------+--------------------+------+---+-----+-----+----------------+-------+-----+--------+\n",
      "|PassengerId|Survived|Pclass|                Name|   Sex|Age|SibSp|Parch|          Ticket|   Fare|Cabin|Embarked|\n",
      "+-----------+--------+------+--------------------+------+---+-----+-----+----------------+-------+-----+--------+\n",
      "|          1|       0|     3|Braund, Mr. Owen ...|  male| 22|    1|    0|       A/5 21171|   7.25| null|       S|\n",
      "|          2|       1|     1|Cumings, Mrs. Joh...|female| 38|    1|    0|        PC 17599|71.2833|  C85|       C|\n",
      "|          3|       1|     3|Heikkinen, Miss. ...|female| 26|    0|    0|STON/O2. 3101282|  7.925| null|       S|\n",
      "+-----------+--------+------+--------------------+------+---+-----+-----+----------------+-------+-----+--------+\n",
      "only showing top 3 rows\n",
      "\n"
     ]
    }
   ],
   "source": [
    "df.show(3)"
   ]
  },
  {
   "cell_type": "markdown",
   "id": "87e578e3",
   "metadata": {},
   "source": [
    "# Selecting One or Multiple Columns"
   ]
  },
  {
   "cell_type": "code",
   "execution_count": 13,
   "id": "0dfa2c46",
   "metadata": {},
   "outputs": [
    {
     "name": "stdout",
     "output_type": "stream",
     "text": [
      "+-----------+\n",
      "|PassengerId|\n",
      "+-----------+\n",
      "|          1|\n",
      "|          2|\n",
      "|          3|\n",
      "+-----------+\n",
      "only showing top 3 rows\n",
      "\n"
     ]
    }
   ],
   "source": [
    "df.select(\"PassengerId\").show(3)"
   ]
  },
  {
   "cell_type": "code",
   "execution_count": 14,
   "id": "ee729960",
   "metadata": {},
   "outputs": [
    {
     "name": "stdout",
     "output_type": "stream",
     "text": [
      "+-----------+--------------------+---+\n",
      "|PassengerId|                Name|Age|\n",
      "+-----------+--------------------+---+\n",
      "|          1|Braund, Mr. Owen ...| 22|\n",
      "|          2|Cumings, Mrs. Joh...| 38|\n",
      "|          3|Heikkinen, Miss. ...| 26|\n",
      "+-----------+--------------------+---+\n",
      "only showing top 3 rows\n",
      "\n"
     ]
    }
   ],
   "source": [
    "df.select(\"PassengerId\",\"Name\",\"Age\").show(3)"
   ]
  },
  {
   "cell_type": "markdown",
   "id": "e6010532",
   "metadata": {},
   "source": [
    "# Adding Columns with DataFrame"
   ]
  },
  {
   "cell_type": "code",
   "execution_count": 15,
   "id": "1b4c2db9",
   "metadata": {},
   "outputs": [
    {
     "name": "stdout",
     "output_type": "stream",
     "text": [
      "+-----------+--------+------+--------------------+------+---+-----+-----+----------------+-------+-----+--------+------+\n",
      "|PassengerId|Survived|Pclass|                Name|   Sex|Age|SibSp|Parch|          Ticket|   Fare|Cabin|Embarked|AGE+10|\n",
      "+-----------+--------+------+--------------------+------+---+-----+-----+----------------+-------+-----+--------+------+\n",
      "|          1|       0|     3|Braund, Mr. Owen ...|  male| 22|    1|    0|       A/5 21171|   7.25| null|       S|  32.0|\n",
      "|          2|       1|     1|Cumings, Mrs. Joh...|female| 38|    1|    0|        PC 17599|71.2833|  C85|       C|  48.0|\n",
      "|          3|       1|     3|Heikkinen, Miss. ...|female| 26|    0|    0|STON/O2. 3101282|  7.925| null|       S|  36.0|\n",
      "+-----------+--------+------+--------------------+------+---+-----+-----+----------------+-------+-----+--------+------+\n",
      "only showing top 3 rows\n",
      "\n"
     ]
    }
   ],
   "source": [
    "df1=df.withColumn(\"AGE+10\",df[\"Age\"]+10)\n",
    "df1.show(3)"
   ]
  },
  {
   "cell_type": "markdown",
   "id": "1c112c95",
   "metadata": {},
   "source": [
    "# Deleting Columns"
   ]
  },
  {
   "cell_type": "code",
   "execution_count": 17,
   "id": "0fcc061d",
   "metadata": {},
   "outputs": [
    {
     "name": "stdout",
     "output_type": "stream",
     "text": [
      "+-----------+--------+------+--------------------+------+---+-----+-----+----------------+-------+-----+--------+\n",
      "|PassengerId|Survived|Pclass|                Name|   Sex|Age|SibSp|Parch|          Ticket|   Fare|Cabin|Embarked|\n",
      "+-----------+--------+------+--------------------+------+---+-----+-----+----------------+-------+-----+--------+\n",
      "|          1|       0|     3|Braund, Mr. Owen ...|  male| 22|    1|    0|       A/5 21171|   7.25| null|       S|\n",
      "|          2|       1|     1|Cumings, Mrs. Joh...|female| 38|    1|    0|        PC 17599|71.2833|  C85|       C|\n",
      "|          3|       1|     3|Heikkinen, Miss. ...|female| 26|    0|    0|STON/O2. 3101282|  7.925| null|       S|\n",
      "+-----------+--------+------+--------------------+------+---+-----+-----+----------------+-------+-----+--------+\n",
      "only showing top 3 rows\n",
      "\n"
     ]
    }
   ],
   "source": [
    "df2=df1.drop(\"AGE+10\")\n",
    "df2.show(3)"
   ]
  },
  {
   "cell_type": "markdown",
   "id": "2a2b0294",
   "metadata": {},
   "source": [
    "# Renaming a Column"
   ]
  },
  {
   "cell_type": "code",
   "execution_count": 19,
   "id": "2200b0ed",
   "metadata": {},
   "outputs": [
    {
     "name": "stdout",
     "output_type": "stream",
     "text": [
      "+-----------+--------+------+--------------------+------+---+-----+-----+----------------+-----------+-----+--------+\n",
      "|PassengerId|Survived|Pclass|                Name|   Sex|Age|SibSp|Parch|          Ticket|TicketPrice|Cabin|Embarked|\n",
      "+-----------+--------+------+--------------------+------+---+-----+-----+----------------+-----------+-----+--------+\n",
      "|          1|       0|     3|Braund, Mr. Owen ...|  male| 22|    1|    0|       A/5 21171|       7.25| null|       S|\n",
      "|          2|       1|     1|Cumings, Mrs. Joh...|female| 38|    1|    0|        PC 17599|    71.2833|  C85|       C|\n",
      "|          3|       1|     3|Heikkinen, Miss. ...|female| 26|    0|    0|STON/O2. 3101282|      7.925| null|       S|\n",
      "+-----------+--------+------+--------------------+------+---+-----+-----+----------------+-----------+-----+--------+\n",
      "only showing top 3 rows\n",
      "\n"
     ]
    }
   ],
   "source": [
    "df=df.withColumnRenamed(\"Fare\",\"TicketPrice\")\n",
    "df.show(3)"
   ]
  },
  {
   "cell_type": "markdown",
   "id": "32e649cd",
   "metadata": {},
   "source": [
    "# Deleting Null Values"
   ]
  },
  {
   "cell_type": "code",
   "execution_count": null,
   "id": "a19634e8",
   "metadata": {},
   "outputs": [],
   "source": []
  },
  {
   "cell_type": "code",
   "execution_count": null,
   "id": "a23646ea",
   "metadata": {},
   "outputs": [],
   "source": []
  },
  {
   "cell_type": "markdown",
   "id": "86c560e9",
   "metadata": {},
   "source": [
    "# Filter Operation"
   ]
  },
  {
   "cell_type": "code",
   "execution_count": 21,
   "id": "6b171e90",
   "metadata": {},
   "outputs": [
    {
     "name": "stdout",
     "output_type": "stream",
     "text": [
      "+-----------+--------+------+--------------------+------+---+-----+-----+----------------+-----------+-----+--------+\n",
      "|PassengerId|Survived|Pclass|                Name|   Sex|Age|SibSp|Parch|          Ticket|TicketPrice|Cabin|Embarked|\n",
      "+-----------+--------+------+--------------------+------+---+-----+-----+----------------+-----------+-----+--------+\n",
      "|          2|       1|     1|Cumings, Mrs. Joh...|female| 38|    1|    0|        PC 17599|    71.2833|  C85|       C|\n",
      "|          3|       1|     3|Heikkinen, Miss. ...|female| 26|    0|    0|STON/O2. 3101282|      7.925| null|       S|\n",
      "|          4|       1|     1|Futrelle, Mrs. Ja...|female| 35|    1|    0|          113803|       53.1| C123|       S|\n",
      "+-----------+--------+------+--------------------+------+---+-----+-----+----------------+-----------+-----+--------+\n",
      "only showing top 3 rows\n",
      "\n"
     ]
    }
   ],
   "source": [
    "survived_df=df.filter(df[\"Survived\"]==1)\n",
    "survived_df.show(3)"
   ]
  },
  {
   "cell_type": "code",
   "execution_count": 22,
   "id": "076d4271",
   "metadata": {},
   "outputs": [
    {
     "name": "stdout",
     "output_type": "stream",
     "text": [
      "+-----------+--------+------+--------------------+----+----+-----+-----+---------+-----------+-----+--------+\n",
      "|PassengerId|Survived|Pclass|                Name| Sex| Age|SibSp|Parch|   Ticket|TicketPrice|Cabin|Embarked|\n",
      "+-----------+--------+------+--------------------+----+----+-----+-----+---------+-----------+-----+--------+\n",
      "|          1|       0|     3|Braund, Mr. Owen ...|male|  22|    1|    0|A/5 21171|       7.25| null|       S|\n",
      "|          5|       0|     3|Allen, Mr. Willia...|male|  35|    0|    0|   373450|       8.05| null|       S|\n",
      "|          6|       0|     3|    Moran, Mr. James|male|null|    0|    0|   330877|     8.4583| null|       Q|\n",
      "+-----------+--------+------+--------------------+----+----+-----+-----+---------+-----------+-----+--------+\n",
      "only showing top 3 rows\n",
      "\n"
     ]
    }
   ],
   "source": [
    "not_survived_df=df.filter(df[\"Survived\"]==0)\n",
    "not_survived_df.show(3)"
   ]
  },
  {
   "cell_type": "markdown",
   "id": "c1439778",
   "metadata": {},
   "source": [
    "# Basic Anlysis"
   ]
  },
  {
   "cell_type": "code",
   "execution_count": 23,
   "id": "20ee61c2",
   "metadata": {},
   "outputs": [
    {
     "data": {
      "text/plain": [
       "891"
      ]
     },
     "execution_count": 23,
     "metadata": {},
     "output_type": "execute_result"
    }
   ],
   "source": [
    "df.count()"
   ]
  },
  {
   "cell_type": "code",
   "execution_count": 25,
   "id": "bb71aa26",
   "metadata": {},
   "outputs": [
    {
     "name": "stdout",
     "output_type": "stream",
     "text": [
      "+------+-----+\n",
      "|   Sex|count|\n",
      "+------+-----+\n",
      "|female|  314|\n",
      "|  male|  577|\n",
      "+------+-----+\n",
      "\n"
     ]
    }
   ],
   "source": [
    "df.groupBy('Sex').count().show()"
   ]
  },
  {
   "cell_type": "code",
   "execution_count": 26,
   "id": "097e2106",
   "metadata": {},
   "outputs": [
    {
     "name": "stdout",
     "output_type": "stream",
     "text": [
      "+------+-----+\n",
      "|   Sex|count|\n",
      "+------+-----+\n",
      "|female|  233|\n",
      "|  male|  109|\n",
      "+------+-----+\n",
      "\n"
     ]
    }
   ],
   "source": [
    "survived_df.groupBy('Sex').count().show()"
   ]
  },
  {
   "cell_type": "code",
   "execution_count": 27,
   "id": "7a6ccf0a",
   "metadata": {},
   "outputs": [
    {
     "name": "stdout",
     "output_type": "stream",
     "text": [
      "+------+-----+\n",
      "|   Sex|count|\n",
      "+------+-----+\n",
      "|female|   81|\n",
      "|  male|  468|\n",
      "+------+-----+\n",
      "\n"
     ]
    }
   ],
   "source": [
    "not_survived_df.groupBy('Sex').count().show()"
   ]
  },
  {
   "cell_type": "markdown",
   "id": "d6c45c40",
   "metadata": {},
   "source": [
    "# Finding Distinct Values in a Column"
   ]
  },
  {
   "cell_type": "code",
   "execution_count": 30,
   "id": "013e5295",
   "metadata": {},
   "outputs": [
    {
     "name": "stdout",
     "output_type": "stream",
     "text": [
      "+------+\n",
      "|   Sex|\n",
      "+------+\n",
      "|female|\n",
      "|  male|\n",
      "+------+\n",
      "\n"
     ]
    }
   ],
   "source": [
    "df.select(\"Sex\").distinct().show()"
   ]
  },
  {
   "cell_type": "markdown",
   "id": "6f6a2acf",
   "metadata": {},
   "source": [
    "# Filtering Null and Not Null Values"
   ]
  },
  {
   "cell_type": "code",
   "execution_count": 38,
   "id": "636fb610",
   "metadata": {},
   "outputs": [
    {
     "ename": "TypeError",
     "evalue": "condition should be string or Column",
     "output_type": "error",
     "traceback": [
      "\u001b[1;31m---------------------------------------------------------------------------\u001b[0m",
      "\u001b[1;31mTypeError\u001b[0m                                 Traceback (most recent call last)",
      "Input \u001b[1;32mIn [38]\u001b[0m, in \u001b[0;36m<cell line: 1>\u001b[1;34m()\u001b[0m\n\u001b[1;32m----> 1\u001b[0m \u001b[43mdf\u001b[49m\u001b[38;5;241;43m.\u001b[39;49m\u001b[43mfilter\u001b[49m\u001b[43m(\u001b[49m\u001b[43mcol\u001b[49m\u001b[43m(\u001b[49m\u001b[38;5;124;43m'\u001b[39;49m\u001b[38;5;124;43mAge\u001b[39;49m\u001b[38;5;124;43m'\u001b[39;49m\u001b[43m)\u001b[49m\u001b[38;5;241;43m.\u001b[39;49m\u001b[43misNotNull\u001b[49m\u001b[43m)\u001b[49m\u001b[38;5;241m.\u001b[39mshow(\u001b[38;5;241m3\u001b[39m)\n",
      "File \u001b[1;32m~\\anaconda3\\lib\\site-packages\\pyspark\\sql\\dataframe.py:2081\u001b[0m, in \u001b[0;36mDataFrame.filter\u001b[1;34m(self, condition)\u001b[0m\n\u001b[0;32m   2079\u001b[0m     jdf \u001b[38;5;241m=\u001b[39m \u001b[38;5;28mself\u001b[39m\u001b[38;5;241m.\u001b[39m_jdf\u001b[38;5;241m.\u001b[39mfilter(condition\u001b[38;5;241m.\u001b[39m_jc)\n\u001b[0;32m   2080\u001b[0m \u001b[38;5;28;01melse\u001b[39;00m:\n\u001b[1;32m-> 2081\u001b[0m     \u001b[38;5;28;01mraise\u001b[39;00m \u001b[38;5;167;01mTypeError\u001b[39;00m(\u001b[38;5;124m\"\u001b[39m\u001b[38;5;124mcondition should be string or Column\u001b[39m\u001b[38;5;124m\"\u001b[39m)\n\u001b[0;32m   2082\u001b[0m \u001b[38;5;28;01mreturn\u001b[39;00m DataFrame(jdf, \u001b[38;5;28mself\u001b[39m\u001b[38;5;241m.\u001b[39msparkSession)\n",
      "\u001b[1;31mTypeError\u001b[0m: condition should be string or Column"
     ]
    }
   ],
   "source": [
    "df.filter(col('Age').isNotNull).show(3)"
   ]
  },
  {
   "cell_type": "code",
   "execution_count": 40,
   "id": "85c4368a",
   "metadata": {},
   "outputs": [
    {
     "name": "stdout",
     "output_type": "stream",
     "text": [
      "+-----------+--------+------+--------------------+------+---+-----+-----+----------------+-----------+-----+--------+\n",
      "|PassengerId|Survived|Pclass|                Name|   Sex|Age|SibSp|Parch|          Ticket|TicketPrice|Cabin|Embarked|\n",
      "+-----------+--------+------+--------------------+------+---+-----+-----+----------------+-----------+-----+--------+\n",
      "|          1|       0|     3|Braund, Mr. Owen ...|  male| 22|    1|    0|       A/5 21171|       7.25| null|       S|\n",
      "|          2|       1|     1|Cumings, Mrs. Joh...|female| 38|    1|    0|        PC 17599|    71.2833|  C85|       C|\n",
      "|          3|       1|     3|Heikkinen, Miss. ...|female| 26|    0|    0|STON/O2. 3101282|      7.925| null|       S|\n",
      "+-----------+--------+------+--------------------+------+---+-----+-----+----------------+-----------+-----+--------+\n",
      "only showing top 3 rows\n",
      "\n"
     ]
    }
   ],
   "source": [
    "df.where(\"Age is not Null\").show(3)"
   ]
  },
  {
   "cell_type": "code",
   "execution_count": 44,
   "id": "1ecb657f",
   "metadata": {},
   "outputs": [
    {
     "name": "stdout",
     "output_type": "stream",
     "text": [
      "+-----------+--------+------+--------------------+------+----+-----+-----+------+-----------+-----+--------+\n",
      "|PassengerId|Survived|Pclass|                Name|   Sex| Age|SibSp|Parch|Ticket|TicketPrice|Cabin|Embarked|\n",
      "+-----------+--------+------+--------------------+------+----+-----+-----+------+-----------+-----+--------+\n",
      "|          6|       0|     3|    Moran, Mr. James|  male|null|    0|    0|330877|     8.4583| null|       Q|\n",
      "|         18|       1|     2|Williams, Mr. Cha...|  male|null|    0|    0|244373|         13| null|       S|\n",
      "|         20|       1|     3|Masselmani, Mrs. ...|female|null|    0|    0|  2649|      7.225| null|       C|\n",
      "+-----------+--------+------+--------------------+------+----+-----+-----+------+-----------+-----+--------+\n",
      "only showing top 3 rows\n",
      "\n"
     ]
    }
   ],
   "source": [
    "df.where(\"Age is Null\").show(3)"
   ]
  },
  {
   "cell_type": "code",
   "execution_count": 45,
   "id": "615fe66d",
   "metadata": {},
   "outputs": [
    {
     "data": {
      "text/plain": [
       "714"
      ]
     },
     "execution_count": 45,
     "metadata": {},
     "output_type": "execute_result"
    }
   ],
   "source": [
    "df.where(\"Age is not Null\").count()"
   ]
  },
  {
   "cell_type": "code",
   "execution_count": 46,
   "id": "53284465",
   "metadata": {},
   "outputs": [
    {
     "data": {
      "text/plain": [
       "177"
      ]
     },
     "execution_count": 46,
     "metadata": {},
     "output_type": "execute_result"
    }
   ],
   "source": [
    "df.where(\"Age is Null\").count()"
   ]
  },
  {
   "cell_type": "markdown",
   "id": "1ad63b3f",
   "metadata": {},
   "source": [
    "# Sorting Based on Values in a Column"
   ]
  },
  {
   "cell_type": "code",
   "execution_count": 50,
   "id": "f7b59b32",
   "metadata": {},
   "outputs": [
    {
     "name": "stdout",
     "output_type": "stream",
     "text": [
      "+-----------+--------+------+--------------------+------+---+-----+-----+----------+-----------+-----+--------+\n",
      "|PassengerId|Survived|Pclass|                Name|   Sex|Age|SibSp|Parch|    Ticket|TicketPrice|Cabin|Embarked|\n",
      "+-----------+--------+------+--------------------+------+---+-----+-----+----------+-----------+-----+--------+\n",
      "|        183|       0|     3|Asplund, Master. ...|  male|  9|    4|    2|    347077|    31.3875| null|       S|\n",
      "|        542|       0|     3|Andersson, Miss. ...|female|  9|    4|    2|    347082|     31.275| null|       S|\n",
      "|        166|       1|     3|\"Goldsmith, Maste...|  male|  9|    0|    2|    363291|     20.525| null|       S|\n",
      "|        148|       0|     3|\"Ford, Miss. Robi...|female|  9|    2|    2|W./C. 6608|     34.375| null|       S|\n",
      "|        481|       0|     3|Goodwin, Master. ...|  male|  9|    5|    2|   CA 2144|       46.9| null|       S|\n",
      "+-----------+--------+------+--------------------+------+---+-----+-----+----------+-----------+-----+--------+\n",
      "only showing top 5 rows\n",
      "\n"
     ]
    }
   ],
   "source": [
    "df.sort(desc(\"Age\")).show(5)"
   ]
  },
  {
   "cell_type": "code",
   "execution_count": 51,
   "id": "80667173",
   "metadata": {},
   "outputs": [
    {
     "name": "stdout",
     "output_type": "stream",
     "text": [
      "+-----------+--------+------+--------------------+------+----+-----+-----+---------------+-----------+-----+--------+\n",
      "|PassengerId|Survived|Pclass|                Name|   Sex| Age|SibSp|Parch|         Ticket|TicketPrice|Cabin|Embarked|\n",
      "+-----------+--------+------+--------------------+------+----+-----+-----+---------------+-----------+-----+--------+\n",
      "|         30|       0|     3| Todoroff, Mr. Lalio|  male|null|    0|    0|         349216|     7.8958| null|       S|\n",
      "|         46|       0|     3|Rogers, Mr. Willi...|  male|null|    0|    0|S.C./A.4. 23567|       8.05| null|       S|\n",
      "|         32|       1|     1|Spencer, Mrs. Wil...|female|null|    1|    0|       PC 17569|   146.5208|  B78|       C|\n",
      "|         29|       1|     3|\"O'Dwyer, Miss. E...|female|null|    0|    0|         330959|     7.8792| null|       Q|\n",
      "|         33|       1|     3|Glynn, Miss. Mary...|female|null|    0|    0|         335677|       7.75| null|       Q|\n",
      "+-----------+--------+------+--------------------+------+----+-----+-----+---------------+-----------+-----+--------+\n",
      "only showing top 5 rows\n",
      "\n"
     ]
    }
   ],
   "source": [
    "df.sort(\"Age\").show(5)"
   ]
  },
  {
   "cell_type": "markdown",
   "id": "f695215c",
   "metadata": {},
   "source": [
    "# More GroupBy and Aggregation"
   ]
  },
  {
   "cell_type": "code",
   "execution_count": 55,
   "id": "e6d86348",
   "metadata": {},
   "outputs": [
    {
     "name": "stdout",
     "output_type": "stream",
     "text": [
      "+------+------------------+\n",
      "|   Sex|           MeanAge|\n",
      "+------+------------------+\n",
      "|female|27.915708812260537|\n",
      "|  male| 30.72664459161148|\n",
      "+------+------------------+\n",
      "\n"
     ]
    }
   ],
   "source": [
    "df.groupBy(\"Sex\").agg(mean(\"Age\").alias(\"MeanAge\")).show()"
   ]
  },
  {
   "cell_type": "code",
   "execution_count": 56,
   "id": "6c718b19",
   "metadata": {},
   "outputs": [
    {
     "name": "stdout",
     "output_type": "stream",
     "text": [
      "+--------+-----+\n",
      "|Embarked|count|\n",
      "+--------+-----+\n",
      "|       Q|   77|\n",
      "|    null|    2|\n",
      "|       C|  168|\n",
      "|       S|  644|\n",
      "+--------+-----+\n",
      "\n"
     ]
    }
   ],
   "source": [
    "df.groupBy(\"Embarked\").count().show()"
   ]
  },
  {
   "cell_type": "markdown",
   "id": "f95438bd",
   "metadata": {},
   "source": [
    "# Filling Null Values"
   ]
  },
  {
   "cell_type": "code",
   "execution_count": 58,
   "id": "9f31ba9d",
   "metadata": {},
   "outputs": [
    {
     "name": "stdout",
     "output_type": "stream",
     "text": [
      "+--------+-----+\n",
      "|Embarked|count|\n",
      "+--------+-----+\n",
      "|       Q|   77|\n",
      "|       C|  168|\n",
      "|       S|  646|\n",
      "+--------+-----+\n",
      "\n"
     ]
    }
   ],
   "source": [
    "df=df.na.fill({\"Embarked\":\"S\"})\n",
    "df.groupBy(\"Embarked\").count().show()"
   ]
  },
  {
   "cell_type": "code",
   "execution_count": null,
   "id": "f46a8ed4",
   "metadata": {},
   "outputs": [],
   "source": []
  }
 ],
 "metadata": {
  "kernelspec": {
   "display_name": "Python 3 (ipykernel)",
   "language": "python",
   "name": "python3"
  },
  "language_info": {
   "codemirror_mode": {
    "name": "ipython",
    "version": 3
   },
   "file_extension": ".py",
   "mimetype": "text/x-python",
   "name": "python",
   "nbconvert_exporter": "python",
   "pygments_lexer": "ipython3",
   "version": "3.9.12"
  }
 },
 "nbformat": 4,
 "nbformat_minor": 5
}
